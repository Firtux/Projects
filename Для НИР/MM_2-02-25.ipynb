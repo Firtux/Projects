{
 "cells": [
  {
   "cell_type": "markdown",
   "metadata": {},
   "source": [
    "Расчет молекулярной массы пектина косвенным методом по определению вязкости растворов с помощью вискозиметра Уббелоде 1"
   ]
  },
  {
   "cell_type": "code",
   "execution_count": 2,
   "metadata": {},
   "outputs": [],
   "source": [
    "import pandas as pd\n",
    "import seaborn as sns\n",
    "import matplotlib.pyplot as plt\n",
    "import numpy as np\n",
    "from sklearn.linear_model import LinearRegression\n",
    "from sklearn.metrics import r2_score"
   ]
  },
  {
   "cell_type": "code",
   "execution_count": 3,
   "metadata": {},
   "outputs": [
    {
     "data": {
      "text/html": [
       "<div>\n",
       "<style scoped>\n",
       "    .dataframe tbody tr th:only-of-type {\n",
       "        vertical-align: middle;\n",
       "    }\n",
       "\n",
       "    .dataframe tbody tr th {\n",
       "        vertical-align: top;\n",
       "    }\n",
       "\n",
       "    .dataframe thead th {\n",
       "        text-align: right;\n",
       "    }\n",
       "</style>\n",
       "<table border=\"1\" class=\"dataframe\">\n",
       "  <thead>\n",
       "    <tr style=\"text-align: right;\">\n",
       "      <th></th>\n",
       "      <th>C</th>\n",
       "      <th>T1</th>\n",
       "      <th>T2</th>\n",
       "    </tr>\n",
       "  </thead>\n",
       "  <tbody>\n",
       "    <tr>\n",
       "      <th>0</th>\n",
       "      <td>0.1</td>\n",
       "      <td>16.36</td>\n",
       "      <td>16.58</td>\n",
       "    </tr>\n",
       "    <tr>\n",
       "      <th>1</th>\n",
       "      <td>0.2</td>\n",
       "      <td>21.17</td>\n",
       "      <td>21.17</td>\n",
       "    </tr>\n",
       "    <tr>\n",
       "      <th>2</th>\n",
       "      <td>0.3</td>\n",
       "      <td>26.06</td>\n",
       "      <td>26.15</td>\n",
       "    </tr>\n",
       "    <tr>\n",
       "      <th>3</th>\n",
       "      <td>0.4</td>\n",
       "      <td>32.47</td>\n",
       "      <td>32.50</td>\n",
       "    </tr>\n",
       "    <tr>\n",
       "      <th>4</th>\n",
       "      <td>0.5</td>\n",
       "      <td>41.11</td>\n",
       "      <td>41.09</td>\n",
       "    </tr>\n",
       "  </tbody>\n",
       "</table>\n",
       "</div>"
      ],
      "text/plain": [
       "     C     T1     T2\n",
       "0  0.1  16.36  16.58\n",
       "1  0.2  21.17  21.17\n",
       "2  0.3  26.06  26.15\n",
       "3  0.4  32.47  32.50\n",
       "4  0.5  41.11  41.09"
      ]
     },
     "execution_count": 3,
     "metadata": {},
     "output_type": "execute_result"
    }
   ],
   "source": [
    "data = pd.DataFrame(\n",
    "    {\n",
    "        'C': [0.1, 0.2, 0.3, 0.4, 0.5],\n",
    "        'T1': [16.36, 21.17, 26.06, 32.47, 41.11],\n",
    "        'T2': [16.58, 21.17, 26.15, 32.50, 41.09]\n",
    "    }\n",
    ")\n",
    "\n",
    "data"
   ]
  },
  {
   "cell_type": "code",
   "execution_count": 4,
   "metadata": {},
   "outputs": [
    {
     "data": {
      "text/html": [
       "<div>\n",
       "<style scoped>\n",
       "    .dataframe tbody tr th:only-of-type {\n",
       "        vertical-align: middle;\n",
       "    }\n",
       "\n",
       "    .dataframe tbody tr th {\n",
       "        vertical-align: top;\n",
       "    }\n",
       "\n",
       "    .dataframe thead th {\n",
       "        text-align: right;\n",
       "    }\n",
       "</style>\n",
       "<table border=\"1\" class=\"dataframe\">\n",
       "  <thead>\n",
       "    <tr style=\"text-align: right;\">\n",
       "      <th></th>\n",
       "      <th>C</th>\n",
       "      <th>T</th>\n",
       "      <th>n_уд</th>\n",
       "      <th>n_прив</th>\n",
       "      <th>n_отн</th>\n",
       "      <th>ln(n_отн)/C</th>\n",
       "    </tr>\n",
       "  </thead>\n",
       "  <tbody>\n",
       "    <tr>\n",
       "      <th>0</th>\n",
       "      <td>0.1</td>\n",
       "      <td>16.47</td>\n",
       "      <td>0.52</td>\n",
       "      <td>5.21</td>\n",
       "      <td>1.52</td>\n",
       "      <td>4.20</td>\n",
       "    </tr>\n",
       "    <tr>\n",
       "      <th>1</th>\n",
       "      <td>0.2</td>\n",
       "      <td>21.17</td>\n",
       "      <td>0.96</td>\n",
       "      <td>4.78</td>\n",
       "      <td>1.96</td>\n",
       "      <td>3.35</td>\n",
       "    </tr>\n",
       "    <tr>\n",
       "      <th>2</th>\n",
       "      <td>0.3</td>\n",
       "      <td>26.10</td>\n",
       "      <td>1.41</td>\n",
       "      <td>4.71</td>\n",
       "      <td>2.41</td>\n",
       "      <td>2.93</td>\n",
       "    </tr>\n",
       "    <tr>\n",
       "      <th>3</th>\n",
       "      <td>0.4</td>\n",
       "      <td>32.48</td>\n",
       "      <td>2.00</td>\n",
       "      <td>5.00</td>\n",
       "      <td>3.00</td>\n",
       "      <td>2.75</td>\n",
       "    </tr>\n",
       "    <tr>\n",
       "      <th>4</th>\n",
       "      <td>0.5</td>\n",
       "      <td>41.10</td>\n",
       "      <td>2.80</td>\n",
       "      <td>5.59</td>\n",
       "      <td>3.80</td>\n",
       "      <td>2.67</td>\n",
       "    </tr>\n",
       "  </tbody>\n",
       "</table>\n",
       "</div>"
      ],
      "text/plain": [
       "     C      T  n_уд  n_прив  n_отн  ln(n_отн)/C\n",
       "0  0.1  16.47  0.52    5.21   1.52         4.20\n",
       "1  0.2  21.17  0.96    4.78   1.96         3.35\n",
       "2  0.3  26.10  1.41    4.71   2.41         2.93\n",
       "3  0.4  32.48  2.00    5.00   3.00         2.75\n",
       "4  0.5  41.10  2.80    5.59   3.80         2.67"
      ]
     },
     "execution_count": 4,
     "metadata": {},
     "output_type": "execute_result"
    }
   ],
   "source": [
    "T_H2O = sum([10.83, 10.82])/2\n",
    "data['T'] = data[['T1', 'T2']].mean(axis=1)\n",
    "data = data.drop(['T1', 'T2'], axis=1)\n",
    "\n",
    "data['n_уд'] = (data['T']-T_H2O)/T_H2O\n",
    "\n",
    "data['n_прив'] = data['n_уд']/data['C']\n",
    "\n",
    "data['n_отн'] = data['T']/T_H2O\n",
    "\n",
    "data['ln(n_отн)/C'] = np.log(data['n_отн'])/data['C']\n",
    "\n",
    "data = data.round(2)\n",
    "\n",
    "data"
   ]
  },
  {
   "cell_type": "code",
   "execution_count": 5,
   "metadata": {},
   "outputs": [
    {
     "name": "stdout",
     "output_type": "stream",
     "text": [
      "Характеристическая вязкость = 4.76\n",
      "R2 = 0.189\n"
     ]
    },
    {
     "data": {
      "text/plain": [
       "Text(-0.07, 4.79, '[n]=4.76')"
      ]
     },
     "execution_count": 5,
     "metadata": {},
     "output_type": "execute_result"
    },
    {
     "data": {
      "image/png": "[encoded data removed]",
      "text/plain": [
       "<Figure size 640x480 with 1 Axes>"
      ]
     },
     "metadata": {},
     "output_type": "display_data"
    }
   ],
   "source": [
    "# from sklearn.preprocessing import PolynomialFeatures\n",
    "\n",
    "X = data['C'].to_numpy().reshape(-1, 1)\n",
    "y = data['n_прив'].to_numpy().reshape(-1, 1)\n",
    "\n",
    "# poly = PolynomialFeatures(degree=2)\n",
    "# X_poly = poly.fit_transform(X)\n",
    "\n",
    "model = LinearRegression()\n",
    "model.fit(X=X, y=y)\n",
    "y_pred = model.predict(X)\n",
    "\n",
    "X_line = np.linspace(0, 0.5, 10).reshape(-1, 1)\n",
    "y_pred_line = model.predict(X_line)\n",
    "\n",
    "n = model.intercept_[0].round(2)\n",
    "print(f'Характеристическая вязкость = {n}')\n",
    "print(f'R2 = {r2_score(y, y_pred):.3f}')\n",
    "\n",
    "# X_line = np.linspace(0, 0.5, 100).reshape(-1, 1)\n",
    "# X_line_poly = poly.fit_transform(X_line)\n",
    "# y_pred_line = model.predict(X_line_poly)\n",
    "\n",
    "sns.scatterplot(x=X.ravel(), y=y.ravel())\n",
    "sns.lineplot(x=X_line.ravel(), y=y_pred_line.ravel())\n",
    "\n",
    "plt.axvline(0, color='black', linewidth=1, linestyle='--')\n",
    "plt.scatter(0, n, color='red', s=30)\n",
    "plt.text(-0.07, n + 0.03, f'[n]={n}', fontsize=10, color='black')"
   ]
  },
  {
   "cell_type": "code",
   "execution_count": 6,
   "metadata": {},
   "outputs": [
    {
     "name": "stdout",
     "output_type": "stream",
     "text": [
      "Характеристическая вязкость = 4.28\n",
      "R2 = 0.850\n"
     ]
    },
    {
     "data": {
      "text/plain": [
       "(2.5, 5.5)"
      ]
     },
     "execution_count": 6,
     "metadata": {},
     "output_type": "execute_result"
    },
    {
     "data": {
      "image/png": "[encoded data removed]",
      "text/plain": [
       "<Figure size 640x480 with 1 Axes>"
      ]
     },
     "metadata": {},
     "output_type": "display_data"
    }
   ],
   "source": [
    "X = data['C'].to_numpy().reshape(-1, 1)\n",
    "y_ln = data['ln(n_отн)/C'].to_numpy().reshape(-1, 1)\n",
    "\n",
    "model = LinearRegression()\n",
    "model.fit(X=X, y=y_ln)\n",
    "y_ln_pred = model.predict(X)\n",
    "X_ln_line = np.linspace(0, 0.5, 10).reshape(-1, 1)\n",
    "y_ln_pred_line = model.predict(X_ln_line)\n",
    "\n",
    "n_ln = model.intercept_[0].round(2)\n",
    "print(f'Характеристическая вязкость = {n_ln}')\n",
    "print(f'R2 = {r2_score(y_ln, y_ln_pred):.3f}')\n",
    "\n",
    "sns.scatterplot(x=X.ravel(), y=y_ln.ravel())\n",
    "sns.lineplot(x=X_ln_line.ravel(), y=y_ln_pred_line.ravel())\n",
    "\n",
    "plt.axvline(0, color='black', linewidth=1, linestyle='--')\n",
    "plt.scatter(0, n_ln, color='red', s=30)\n",
    "plt.text(-0.1, n_ln + 0.07, f'[n_ln]={n_ln}', fontsize=10, color='black')\n",
    "plt.ylim(2.5, 5.5)"
   ]
  },
  {
   "cell_type": "code",
   "execution_count": 7,
   "metadata": {},
   "outputs": [
    {
     "name": "stdout",
     "output_type": "stream",
     "text": [
      "[n] = 4.76 | Молекулярная масса = 41.67 кДа\n",
      "[n_ln] = 4.28 | Молекулярная масса (ln) = 38.20 кДа\n",
      "\n",
      "Таблица с данными:\n",
      "     C      T  n_уд  n_прив  n_отн  ln(n_отн)/C\n",
      "0  0.1  16.47  0.52    5.21   1.52         4.20\n",
      "1  0.2  21.17  0.96    4.78   1.96         3.35\n",
      "2  0.3  26.10  1.41    4.71   2.41         2.93\n",
      "3  0.4  32.48  2.00    5.00   3.00         2.75\n",
      "4  0.5  41.10  2.80    5.59   3.80         2.67\n"
     ]
    },
    {
     "data": {
      "text/plain": [
       "Text(-0.1, 4.3500000000000005, '[n_ln]=4.28')"
      ]
     },
     "execution_count": 7,
     "metadata": {},
     "output_type": "execute_result"
    },
    {
     "data": {
      "image/png": "[encoded data removed]",
      "text/plain": [
       "<Figure size 640x480 with 1 Axes>"
      ]
     },
     "metadata": {},
     "output_type": "display_data"
    }
   ],
   "source": [
    "K = 1.1*10**(-5)\n",
    "a = 1.22\n",
    "\n",
    "MM = (n/K)**(1/1.22)/1000\n",
    "print(f'[n] = {n} | Молекулярная масса = {MM:.2f} кДа')\n",
    "\n",
    "MM_ln = (n_ln/K)**(1/1.22)/1000\n",
    "print(f'[n_ln] = {n_ln} | Молекулярная масса (ln) = {MM_ln:.2f} кДа')\n",
    "\n",
    "print(f'\\nТаблица с данными:\\n{data}')\n",
    "\n",
    "sns.scatterplot(x=X.ravel(), y=y.ravel())\n",
    "sns.lineplot(x=X_line.ravel(), y=y_pred_line.ravel())\n",
    "sns.scatterplot(x=X.ravel(), y=y_ln.ravel())\n",
    "sns.lineplot(x=X_ln_line.ravel(), y=y_ln_pred_line.ravel())\n",
    "\n",
    "plt.axvline(0, color='black', linewidth=1, linestyle='--')\n",
    "plt.scatter(0, n, color='red', s=30)\n",
    "plt.scatter(0, n_ln, color='red', s=30)\n",
    "plt.text(-0.07, n + 0.03, f'[n]={n:.2f}', fontsize=10, color='black')\n",
    "plt.text(-0.1, n_ln + 0.07, f'[n_ln]={n_ln:.2f}', fontsize=10, color='black')"
   ]
  }
 ],
 "metadata": {
  "kernelspec": {
   "display_name": "myenv",
   "language": "python",
   "name": "python3"
  },
  "language_info": {
   "codemirror_mode": {
    "name": "ipython",
    "version": 3
   },
   "file_extension": ".py",
   "mimetype": "text/x-python",
   "name": "python",
   "nbconvert_exporter": "python",
   "pygments_lexer": "ipython3",
   "version": "3.11.0"
  }
 },
 "nbformat": 4,
 "nbformat_minor": 2
}
