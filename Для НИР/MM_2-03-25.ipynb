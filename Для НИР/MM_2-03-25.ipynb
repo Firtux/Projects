{
 "cells": [
  {
   "cell_type": "markdown",
   "metadata": {},
   "source": [
    "Расчет молекулярной массы пектина косвенным методом по определению вязкости растворов с помощью вискозиметра Уббелоде"
   ]
  },
  {
   "cell_type": "code",
   "execution_count": 61,
   "metadata": {},
   "outputs": [],
   "source": [
    "import pandas as pd\n",
    "import seaborn as sns\n",
    "import matplotlib.pyplot as plt\n",
    "import numpy as np\n",
    "from sklearn.linear_model import LinearRegression\n",
    "from sklearn.metrics import r2_score"
   ]
  },
  {
   "cell_type": "code",
   "execution_count": 62,
   "metadata": {},
   "outputs": [
    {
     "data": {
      "text/html": [
       "<div>\n",
       "<style scoped>\n",
       "    .dataframe tbody tr th:only-of-type {\n",
       "        vertical-align: middle;\n",
       "    }\n",
       "\n",
       "    .dataframe tbody tr th {\n",
       "        vertical-align: top;\n",
       "    }\n",
       "\n",
       "    .dataframe thead th {\n",
       "        text-align: right;\n",
       "    }\n",
       "</style>\n",
       "<table border=\"1\" class=\"dataframe\">\n",
       "  <thead>\n",
       "    <tr style=\"text-align: right;\">\n",
       "      <th></th>\n",
       "      <th>C</th>\n",
       "      <th>T1</th>\n",
       "      <th>T2</th>\n",
       "      <th>T3</th>\n",
       "    </tr>\n",
       "  </thead>\n",
       "  <tbody>\n",
       "    <tr>\n",
       "      <th>0</th>\n",
       "      <td>0.02</td>\n",
       "      <td>12.08</td>\n",
       "      <td>12.17</td>\n",
       "      <td>12.20</td>\n",
       "    </tr>\n",
       "    <tr>\n",
       "      <th>1</th>\n",
       "      <td>0.04</td>\n",
       "      <td>13.48</td>\n",
       "      <td>13.52</td>\n",
       "      <td>13.55</td>\n",
       "    </tr>\n",
       "    <tr>\n",
       "      <th>2</th>\n",
       "      <td>0.06</td>\n",
       "      <td>14.56</td>\n",
       "      <td>14.65</td>\n",
       "      <td>14.75</td>\n",
       "    </tr>\n",
       "    <tr>\n",
       "      <th>3</th>\n",
       "      <td>0.08</td>\n",
       "      <td>15.79</td>\n",
       "      <td>15.76</td>\n",
       "      <td>15.76</td>\n",
       "    </tr>\n",
       "    <tr>\n",
       "      <th>4</th>\n",
       "      <td>0.10</td>\n",
       "      <td>16.67</td>\n",
       "      <td>16.68</td>\n",
       "      <td>16.79</td>\n",
       "    </tr>\n",
       "  </tbody>\n",
       "</table>\n",
       "</div>"
      ],
      "text/plain": [
       "      C     T1     T2     T3\n",
       "0  0.02  12.08  12.17  12.20\n",
       "1  0.04  13.48  13.52  13.55\n",
       "2  0.06  14.56  14.65  14.75\n",
       "3  0.08  15.79  15.76  15.76\n",
       "4  0.10  16.67  16.68  16.79"
      ]
     },
     "execution_count": 62,
     "metadata": {},
     "output_type": "execute_result"
    }
   ],
   "source": [
    "data = pd.DataFrame(\n",
    "    {\n",
    "        'C': [0.02, 0.04, 0.06, 0.08, 0.10],\n",
    "        'T1': [12.08, 13.48, 14.56, 15.79, 16.67],\n",
    "        'T2': [12.17, 13.52, 14.65, 15.76, 16.68],\n",
    "        'T3': [12.20, 13.55, 14.75, 15.76, 16.79]\n",
    "    }\n",
    ")\n",
    "\n",
    "data"
   ]
  },
  {
   "cell_type": "code",
   "execution_count": 63,
   "metadata": {},
   "outputs": [
    {
     "data": {
      "text/html": [
       "<div>\n",
       "<style scoped>\n",
       "    .dataframe tbody tr th:only-of-type {\n",
       "        vertical-align: middle;\n",
       "    }\n",
       "\n",
       "    .dataframe tbody tr th {\n",
       "        vertical-align: top;\n",
       "    }\n",
       "\n",
       "    .dataframe thead th {\n",
       "        text-align: right;\n",
       "    }\n",
       "</style>\n",
       "<table border=\"1\" class=\"dataframe\">\n",
       "  <thead>\n",
       "    <tr style=\"text-align: right;\">\n",
       "      <th></th>\n",
       "      <th>C</th>\n",
       "      <th>T</th>\n",
       "      <th>n_уд</th>\n",
       "      <th>n_прив</th>\n",
       "      <th>n_отн</th>\n",
       "      <th>ln(n_отн)/C</th>\n",
       "    </tr>\n",
       "  </thead>\n",
       "  <tbody>\n",
       "    <tr>\n",
       "      <th>0</th>\n",
       "      <td>0.02</td>\n",
       "      <td>12.15</td>\n",
       "      <td>0.12</td>\n",
       "      <td>5.94</td>\n",
       "      <td>1.12</td>\n",
       "      <td>5.61</td>\n",
       "    </tr>\n",
       "    <tr>\n",
       "      <th>1</th>\n",
       "      <td>0.04</td>\n",
       "      <td>13.52</td>\n",
       "      <td>0.24</td>\n",
       "      <td>6.12</td>\n",
       "      <td>1.24</td>\n",
       "      <td>5.47</td>\n",
       "    </tr>\n",
       "    <tr>\n",
       "      <th>2</th>\n",
       "      <td>0.06</td>\n",
       "      <td>14.65</td>\n",
       "      <td>0.35</td>\n",
       "      <td>5.82</td>\n",
       "      <td>1.35</td>\n",
       "      <td>4.99</td>\n",
       "    </tr>\n",
       "    <tr>\n",
       "      <th>3</th>\n",
       "      <td>0.08</td>\n",
       "      <td>15.77</td>\n",
       "      <td>0.45</td>\n",
       "      <td>5.65</td>\n",
       "      <td>1.45</td>\n",
       "      <td>4.66</td>\n",
       "    </tr>\n",
       "    <tr>\n",
       "      <th>4</th>\n",
       "      <td>0.10</td>\n",
       "      <td>16.71</td>\n",
       "      <td>0.54</td>\n",
       "      <td>5.39</td>\n",
       "      <td>1.54</td>\n",
       "      <td>4.31</td>\n",
       "    </tr>\n",
       "  </tbody>\n",
       "</table>\n",
       "</div>"
      ],
      "text/plain": [
       "      C      T  n_уд  n_прив  n_отн  ln(n_отн)/C\n",
       "0  0.02  12.15  0.12    5.94   1.12         5.61\n",
       "1  0.04  13.52  0.24    6.12   1.24         5.47\n",
       "2  0.06  14.65  0.35    5.82   1.35         4.99\n",
       "3  0.08  15.77  0.45    5.65   1.45         4.66\n",
       "4  0.10  16.71  0.54    5.39   1.54         4.31"
      ]
     },
     "execution_count": 63,
     "metadata": {},
     "output_type": "execute_result"
    }
   ],
   "source": [
    "T_H2O = sum([10.88, 10.92, 10.78])/3\n",
    "data['T'] = data[['T1', 'T2', 'T3']].mean(axis=1)\n",
    "data = data.drop(['T1', 'T2', 'T3'], axis=1)\n",
    "data['n_уд'] = (data['T']-T_H2O)/T_H2O\n",
    "data['n_прив'] = data['n_уд']/data['C']\n",
    "data['n_отн'] = data['T']/T_H2O\n",
    "data['ln(n_отн)/C'] = np.log(data['n_отн'])/data['C']\n",
    "data = data.round(2)\n",
    "\n",
    "data"
   ]
  },
  {
   "cell_type": "code",
   "execution_count": 64,
   "metadata": {},
   "outputs": [
    {
     "name": "stdout",
     "output_type": "stream",
     "text": [
      "Характеристическая вязкость = 6.26\n",
      "R2 = 0.791\n"
     ]
    },
    {
     "name": "stderr",
     "output_type": "stream",
     "text": [
      "C:\\Users\\nadys\\AppData\\Local\\Temp\\ipykernel_1372\\678620443.py:30: FutureWarning: Series.__getitem__ treating keys as positions is deprecated. In a future version, integer keys will always be treated as labels (consistent with DataFrame behavior). To access a value by position, use `ser.iloc[pos]`\n",
      "  plt.ylim(data.loc[4][3]+0.1, n+0.1)\n"
     ]
    },
    {
     "data": {
      "text/plain": [
       "(5.489999999999999, 6.359999999999999)"
      ]
     },
     "execution_count": 64,
     "metadata": {},
     "output_type": "execute_result"
    },
    {
     "data": {
      "image/png": "[encoded data removed]",
      "text/plain": [
       "<Figure size 640x480 with 1 Axes>"
      ]
     },
     "metadata": {},
     "output_type": "display_data"
    }
   ],
   "source": [
    "# from sklearn.preprocessing import PolynomialFeatures\n",
    "\n",
    "X = data['C'].to_numpy().reshape(-1, 1)\n",
    "y = data['n_прив'].to_numpy().reshape(-1, 1)\n",
    "\n",
    "# poly = PolynomialFeatures(degree=2)\n",
    "# X_poly = poly.fit_transform(X)\n",
    "\n",
    "model = LinearRegression()\n",
    "model.fit(X=X, y=y)\n",
    "y_pred = model.predict(X)\n",
    "\n",
    "X_line = np.linspace(0, 0.5, 10).reshape(-1, 1)\n",
    "y_pred_line = model.predict(X_line)\n",
    "\n",
    "n = model.intercept_[0].round(2)\n",
    "print(f'Характеристическая вязкость = {n}')\n",
    "print(f'R2 = {r2_score(y, y_pred):.3f}')\n",
    "\n",
    "# X_line = np.linspace(0, 0.5, 100).reshape(-1, 1)\n",
    "# X_line_poly = poly.fit_transform(X_line)\n",
    "# y_pred_line = model.predict(X_line_poly)\n",
    "\n",
    "sns.scatterplot(x=X.ravel(), y=y.ravel())\n",
    "sns.lineplot(x=X_line.ravel(), y=y_pred_line.ravel())\n",
    "\n",
    "plt.axvline(0, color='black', linewidth=1, linestyle='--')\n",
    "plt.scatter(0, n, color='red', s=30)\n",
    "plt.text(-0.07, n + 0.03, f'[n]={n}', fontsize=10, color='black')\n",
    "plt.ylim(data.loc[4][3]+0.1, n+0.1)"
   ]
  },
  {
   "cell_type": "code",
   "execution_count": 65,
   "metadata": {},
   "outputs": [
    {
     "name": "stdout",
     "output_type": "stream",
     "text": [
      "Характеристическая вязкость = 6.03\n",
      "R2 = 0.982\n"
     ]
    },
    {
     "name": "stderr",
     "output_type": "stream",
     "text": [
      "C:\\Users\\nadys\\AppData\\Local\\Temp\\ipykernel_1372\\667656371.py:20: FutureWarning: Series.__getitem__ treating keys as positions is deprecated. In a future version, integer keys will always be treated as labels (consistent with DataFrame behavior). To access a value by position, use `ser.iloc[pos]`\n",
      "  plt.ylim(data.loc[4][5]+0.1, n_ln+0.1)\n"
     ]
    },
    {
     "data": {
      "text/plain": [
       "(4.409999999999999, 6.13)"
      ]
     },
     "execution_count": 65,
     "metadata": {},
     "output_type": "execute_result"
    },
    {
     "data": {
      "image/png": "[encoded data removed]",
      "text/plain": [
       "<Figure size 640x480 with 1 Axes>"
      ]
     },
     "metadata": {},
     "output_type": "display_data"
    }
   ],
   "source": [
    "X = data['C'].to_numpy().reshape(-1, 1)\n",
    "y_ln = data['ln(n_отн)/C'].to_numpy().reshape(-1, 1)\n",
    "\n",
    "model = LinearRegression()\n",
    "model.fit(X=X, y=y_ln)\n",
    "y_ln_pred = model.predict(X)\n",
    "X_ln_line = np.linspace(0, 0.5, 10).reshape(-1, 1)\n",
    "y_ln_pred_line = model.predict(X_ln_line)\n",
    "\n",
    "n_ln = model.intercept_[0].round(2)\n",
    "print(f'Характеристическая вязкость = {n_ln}')\n",
    "print(f'R2 = {r2_score(y_ln, y_ln_pred):.3f}')\n",
    "\n",
    "sns.scatterplot(x=X.ravel(), y=y_ln.ravel())\n",
    "sns.lineplot(x=X_ln_line.ravel(), y=y_ln_pred_line.ravel())\n",
    "\n",
    "plt.axvline(0, color='black', linewidth=1, linestyle='--')\n",
    "plt.scatter(0, n_ln, color='red', s=30)\n",
    "plt.text(-0.1, n_ln + 0.07, f'[n_ln]={n_ln}', fontsize=10, color='black')\n",
    "plt.ylim(data.loc[4][5]+0.1, n_ln+0.1)"
   ]
  },
  {
   "cell_type": "code",
   "execution_count": 66,
   "metadata": {},
   "outputs": [
    {
     "name": "stdout",
     "output_type": "stream",
     "text": [
      "[n] = 6.26 | Молекулярная масса = 52.16 кДа\n",
      "[n_ln] = 6.03 | Молекулярная масса (ln) = 50.59 кДа\n",
      "[n]ср = 6.14 | Молекулярная масса ср = 51.37 кДа\n",
      "\n",
      "Таблица с данными:\n",
      "      C      T  n_уд  n_прив  n_отн  ln(n_отн)/C\n",
      "0  0.02  12.15  0.12    5.94   1.12         5.61\n",
      "1  0.04  13.52  0.24    6.12   1.24         5.47\n",
      "2  0.06  14.65  0.35    5.82   1.35         4.99\n",
      "3  0.08  15.77  0.45    5.65   1.45         4.66\n",
      "4  0.10  16.71  0.54    5.39   1.54         4.31\n"
     ]
    },
    {
     "name": "stderr",
     "output_type": "stream",
     "text": [
      "C:\\Users\\nadys\\AppData\\Local\\Temp\\ipykernel_1372\\1729216945.py:25: FutureWarning: Series.__getitem__ treating keys as positions is deprecated. In a future version, integer keys will always be treated as labels (consistent with DataFrame behavior). To access a value by position, use `ser.iloc[pos]`\n",
      "  plt.ylim(data.loc[4][3]+0.1, n+0.1)\n"
     ]
    },
    {
     "data": {
      "text/plain": [
       "(5.489999999999999, 6.359999999999999)"
      ]
     },
     "execution_count": 66,
     "metadata": {},
     "output_type": "execute_result"
    },
    {
     "data": {
      "image/png": "[encoded data removed]",
      "text/plain": [
       "<Figure size 640x480 with 1 Axes>"
      ]
     },
     "metadata": {},
     "output_type": "display_data"
    }
   ],
   "source": [
    "K = 1.1*10**(-5)\n",
    "a = 1.22\n",
    "\n",
    "MM = (n/K)**(1/1.22)/1000\n",
    "print(f'[n] = {n} | Молекулярная масса = {MM:.2f} кДа')\n",
    "\n",
    "MM_ln = (n_ln/K)**(1/1.22)/1000\n",
    "print(f'[n_ln] = {n_ln} | Молекулярная масса (ln) = {MM_ln:.2f} кДа')\n",
    "\n",
    "print(f'[n]ср = {(n+n_ln)/2:.2f} | Молекулярная масса ср = {(MM+MM_ln)/2:.2f} кДа')\n",
    "\n",
    "print(f'\\nТаблица с данными:\\n{data}')\n",
    "\n",
    "sns.scatterplot(x=X.ravel(), y=y.ravel())\n",
    "sns.lineplot(x=X_line.ravel(), y=y_pred_line.ravel())\n",
    "sns.scatterplot(x=X.ravel(), y=y_ln.ravel())\n",
    "sns.lineplot(x=X_ln_line.ravel(), y=y_ln_pred_line.ravel())\n",
    "\n",
    "plt.axvline(0, color='black', linewidth=1, linestyle='--')\n",
    "plt.scatter(0, n, color='red', s=30)\n",
    "plt.scatter(0, n_ln, color='red', s=30)\n",
    "plt.text(-0.02, n + 0.03, f'[n]={n:.2f}', fontsize=10, color='black')\n",
    "plt.text(-0.023, n_ln - 0.1, f'[n_ln]={n_ln:.2f}', fontsize=10, color='black')\n",
    "plt.xlim(-0.02, 0.11)\n",
    "plt.ylim(data.loc[4][3]+0.1, n+0.1)"
   ]
  },
  {
   "cell_type": "code",
   "execution_count": 67,
   "metadata": {},
   "outputs": [
    {
     "data": {
      "text/html": [
       "<div>\n",
       "<style scoped>\n",
       "    .dataframe tbody tr th:only-of-type {\n",
       "        vertical-align: middle;\n",
       "    }\n",
       "\n",
       "    .dataframe tbody tr th {\n",
       "        vertical-align: top;\n",
       "    }\n",
       "\n",
       "    .dataframe thead th {\n",
       "        text-align: right;\n",
       "    }\n",
       "</style>\n",
       "<table border=\"1\" class=\"dataframe\">\n",
       "  <thead>\n",
       "    <tr style=\"text-align: right;\">\n",
       "      <th></th>\n",
       "      <th>C</th>\n",
       "      <th>n_отн</th>\n",
       "    </tr>\n",
       "  </thead>\n",
       "  <tbody>\n",
       "    <tr>\n",
       "      <th>0</th>\n",
       "      <td>0.01</td>\n",
       "      <td>1.08</td>\n",
       "    </tr>\n",
       "    <tr>\n",
       "      <th>1</th>\n",
       "      <td>0.02</td>\n",
       "      <td>1.13</td>\n",
       "    </tr>\n",
       "    <tr>\n",
       "      <th>2</th>\n",
       "      <td>0.04</td>\n",
       "      <td>1.24</td>\n",
       "    </tr>\n",
       "    <tr>\n",
       "      <th>3</th>\n",
       "      <td>0.06</td>\n",
       "      <td>1.34</td>\n",
       "    </tr>\n",
       "    <tr>\n",
       "      <th>4</th>\n",
       "      <td>0.08</td>\n",
       "      <td>1.44</td>\n",
       "    </tr>\n",
       "    <tr>\n",
       "      <th>5</th>\n",
       "      <td>0.10</td>\n",
       "      <td>1.55</td>\n",
       "    </tr>\n",
       "  </tbody>\n",
       "</table>\n",
       "</div>"
      ],
      "text/plain": [
       "      C  n_отн\n",
       "0  0.01   1.08\n",
       "1  0.02   1.13\n",
       "2  0.04   1.24\n",
       "3  0.06   1.34\n",
       "4  0.08   1.44\n",
       "5  0.10   1.55"
      ]
     },
     "execution_count": 67,
     "metadata": {},
     "output_type": "execute_result"
    }
   ],
   "source": [
    "# расчет концентраций растворов пектина, при которых 1.1 < n_отн < 1.5\n",
    "\n",
    "X = data['C'].to_numpy().reshape(-1, 1)\n",
    "y = data['n_отн'].to_numpy().reshape(-1, 1)\n",
    "\n",
    "model = LinearRegression()\n",
    "model.fit(X, y)\n",
    "\n",
    "y_pred = model.predict(X)\n",
    "\n",
    "l = [0.01, 0.02, 0.04, 0.06, 0.08, 0.1]\n",
    "predictions = []\n",
    "for i in l:\n",
    "    y_1 = model.predict([[i]]).ravel()[0].round(2)\n",
    "    predictions.append(y_1)\n",
    "\n",
    "df = pd.DataFrame({\n",
    "    'C': l,\n",
    "    'n_отн': predictions\n",
    "})\n",
    "df\n"
   ]
  }
 ],
 "metadata": {
  "kernelspec": {
   "display_name": "myenv",
   "language": "python",
   "name": "python3"
  },
  "language_info": {
   "codemirror_mode": {
    "name": "ipython",
    "version": 3
   },
   "file_extension": ".py",
   "mimetype": "text/x-python",
   "name": "python",
   "nbconvert_exporter": "python",
   "pygments_lexer": "ipython3",
   "version": "3.11.0"
  }
 },
 "nbformat": 4,
 "nbformat_minor": 2
}
