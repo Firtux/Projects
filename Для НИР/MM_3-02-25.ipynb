{
 "cells": [
  {
   "cell_type": "markdown",
   "metadata": {},
   "source": [
    "Расчет молекулярной массы пектина косвенным методом по определению вязкости растворов с помощью вискозиметра Уббелоде"
   ]
  },
  {
   "cell_type": "code",
   "execution_count": 2,
   "metadata": {},
   "outputs": [],
   "source": [
    "import pandas as pd\n",
    "import seaborn as sns\n",
    "import matplotlib.pyplot as plt\n",
    "import numpy as np\n",
    "from sklearn.linear_model import LinearRegression\n",
    "from sklearn.metrics import r2_score"
   ]
  },
  {
   "cell_type": "code",
   "execution_count": 3,
   "metadata": {},
   "outputs": [
    {
     "data": {
      "text/html": [
       "<div>\n",
       "<style scoped>\n",
       "    .dataframe tbody tr th:only-of-type {\n",
       "        vertical-align: middle;\n",
       "    }\n",
       "\n",
       "    .dataframe tbody tr th {\n",
       "        vertical-align: top;\n",
       "    }\n",
       "\n",
       "    .dataframe thead th {\n",
       "        text-align: right;\n",
       "    }\n",
       "</style>\n",
       "<table border=\"1\" class=\"dataframe\">\n",
       "  <thead>\n",
       "    <tr style=\"text-align: right;\">\n",
       "      <th></th>\n",
       "      <th>C</th>\n",
       "      <th>T1</th>\n",
       "      <th>T2</th>\n",
       "      <th>T3</th>\n",
       "    </tr>\n",
       "  </thead>\n",
       "  <tbody>\n",
       "    <tr>\n",
       "      <th>0</th>\n",
       "      <td>0.05</td>\n",
       "      <td>14.12</td>\n",
       "      <td>14.28</td>\n",
       "      <td>14.25</td>\n",
       "    </tr>\n",
       "    <tr>\n",
       "      <th>1</th>\n",
       "      <td>0.10</td>\n",
       "      <td>16.82</td>\n",
       "      <td>16.77</td>\n",
       "      <td>16.78</td>\n",
       "    </tr>\n",
       "    <tr>\n",
       "      <th>2</th>\n",
       "      <td>0.15</td>\n",
       "      <td>19.08</td>\n",
       "      <td>19.22</td>\n",
       "      <td>19.22</td>\n",
       "    </tr>\n",
       "    <tr>\n",
       "      <th>3</th>\n",
       "      <td>0.20</td>\n",
       "      <td>21.65</td>\n",
       "      <td>21.68</td>\n",
       "      <td>21.79</td>\n",
       "    </tr>\n",
       "    <tr>\n",
       "      <th>4</th>\n",
       "      <td>0.25</td>\n",
       "      <td>24.18</td>\n",
       "      <td>24.36</td>\n",
       "      <td>24.34</td>\n",
       "    </tr>\n",
       "  </tbody>\n",
       "</table>\n",
       "</div>"
      ],
      "text/plain": [
       "      C     T1     T2     T3\n",
       "0  0.05  14.12  14.28  14.25\n",
       "1  0.10  16.82  16.77  16.78\n",
       "2  0.15  19.08  19.22  19.22\n",
       "3  0.20  21.65  21.68  21.79\n",
       "4  0.25  24.18  24.36  24.34"
      ]
     },
     "execution_count": 3,
     "metadata": {},
     "output_type": "execute_result"
    }
   ],
   "source": [
    "data = pd.DataFrame(\n",
    "    {\n",
    "        'C': [0.05, 0.10, 0.15, 0.20, 0.25],\n",
    "        'T1': [14.12, 16.82, 19.08, 21.65, 24.18],\n",
    "        'T2': [14.28, 16.77, 19.22, 21.68, 24.36],\n",
    "        'T3': [14.25, 16.78, 19.22, 21.79, 24.34]\n",
    "    }\n",
    ")\n",
    "\n",
    "data"
   ]
  },
  {
   "cell_type": "code",
   "execution_count": 4,
   "metadata": {},
   "outputs": [
    {
     "data": {
      "text/html": [
       "<div>\n",
       "<style scoped>\n",
       "    .dataframe tbody tr th:only-of-type {\n",
       "        vertical-align: middle;\n",
       "    }\n",
       "\n",
       "    .dataframe tbody tr th {\n",
       "        vertical-align: top;\n",
       "    }\n",
       "\n",
       "    .dataframe thead th {\n",
       "        text-align: right;\n",
       "    }\n",
       "</style>\n",
       "<table border=\"1\" class=\"dataframe\">\n",
       "  <thead>\n",
       "    <tr style=\"text-align: right;\">\n",
       "      <th></th>\n",
       "      <th>C</th>\n",
       "      <th>T</th>\n",
       "      <th>n_уд</th>\n",
       "      <th>n_прив</th>\n",
       "      <th>n_отн</th>\n",
       "      <th>ln(n_отн)/C</th>\n",
       "    </tr>\n",
       "  </thead>\n",
       "  <tbody>\n",
       "    <tr>\n",
       "      <th>0</th>\n",
       "      <td>0.05</td>\n",
       "      <td>14.22</td>\n",
       "      <td>0.28</td>\n",
       "      <td>5.58</td>\n",
       "      <td>1.28</td>\n",
       "      <td>4.93</td>\n",
       "    </tr>\n",
       "    <tr>\n",
       "      <th>1</th>\n",
       "      <td>0.10</td>\n",
       "      <td>16.79</td>\n",
       "      <td>0.51</td>\n",
       "      <td>5.11</td>\n",
       "      <td>1.51</td>\n",
       "      <td>4.13</td>\n",
       "    </tr>\n",
       "    <tr>\n",
       "      <th>2</th>\n",
       "      <td>0.15</td>\n",
       "      <td>19.17</td>\n",
       "      <td>0.73</td>\n",
       "      <td>4.84</td>\n",
       "      <td>1.73</td>\n",
       "      <td>3.64</td>\n",
       "    </tr>\n",
       "    <tr>\n",
       "      <th>3</th>\n",
       "      <td>0.20</td>\n",
       "      <td>21.71</td>\n",
       "      <td>0.95</td>\n",
       "      <td>4.77</td>\n",
       "      <td>1.95</td>\n",
       "      <td>3.35</td>\n",
       "    </tr>\n",
       "    <tr>\n",
       "      <th>4</th>\n",
       "      <td>0.25</td>\n",
       "      <td>24.29</td>\n",
       "      <td>1.19</td>\n",
       "      <td>4.74</td>\n",
       "      <td>2.19</td>\n",
       "      <td>3.13</td>\n",
       "    </tr>\n",
       "  </tbody>\n",
       "</table>\n",
       "</div>"
      ],
      "text/plain": [
       "      C      T  n_уд  n_прив  n_отн  ln(n_отн)/C\n",
       "0  0.05  14.22  0.28    5.58   1.28         4.93\n",
       "1  0.10  16.79  0.51    5.11   1.51         4.13\n",
       "2  0.15  19.17  0.73    4.84   1.73         3.64\n",
       "3  0.20  21.71  0.95    4.77   1.95         3.35\n",
       "4  0.25  24.29  1.19    4.74   2.19         3.13"
      ]
     },
     "execution_count": 4,
     "metadata": {},
     "output_type": "execute_result"
    }
   ],
   "source": [
    "T_H2O = sum([11.07, 11.14, 11.13])/3\n",
    "data['T'] = data[['T1', 'T2', 'T3']].mean(axis=1)\n",
    "data = data.drop(['T1', 'T2', 'T3'], axis=1)\n",
    "\n",
    "data['n_уд'] = (data['T']-T_H2O)/T_H2O\n",
    "\n",
    "data['n_прив'] = data['n_уд']/data['C']\n",
    "\n",
    "data['n_отн'] = data['T']/T_H2O\n",
    "\n",
    "data['ln(n_отн)/C'] = np.log(data['n_отн'])/data['C']\n",
    "\n",
    "data = data.round(2)\n",
    "\n",
    "data"
   ]
  },
  {
   "cell_type": "code",
   "execution_count": 16,
   "metadata": {},
   "outputs": [
    {
     "name": "stdout",
     "output_type": "stream",
     "text": [
      "Характеристическая вязкость = 5.61\n",
      "R2 = 0.826\n"
     ]
    },
    {
     "data": {
      "text/plain": [
       "(4.7, 5.7)"
      ]
     },
     "execution_count": 16,
     "metadata": {},
     "output_type": "execute_result"
    },
    {
     "data": {
      "image/png": "[encoded data removed]",
      "text/plain": [
       "<Figure size 640x480 with 1 Axes>"
      ]
     },
     "metadata": {},
     "output_type": "display_data"
    }
   ],
   "source": [
    "# from sklearn.preprocessing import PolynomialFeatures\n",
    "\n",
    "X = data['C'].to_numpy().reshape(-1, 1)\n",
    "y = data['n_прив'].to_numpy().reshape(-1, 1)\n",
    "\n",
    "# poly = PolynomialFeatures(degree=2)\n",
    "# X_poly = poly.fit_transform(X)\n",
    "\n",
    "model = LinearRegression()\n",
    "model.fit(X=X, y=y)\n",
    "y_pred = model.predict(X)\n",
    "\n",
    "X_line = np.linspace(0, 0.5, 10).reshape(-1, 1)\n",
    "y_pred_line = model.predict(X_line)\n",
    "\n",
    "n = model.intercept_[0].round(2)\n",
    "print(f'Характеристическая вязкость = {n}')\n",
    "print(f'R2 = {r2_score(y, y_pred):.3f}')\n",
    "\n",
    "# X_line = np.linspace(0, 0.5, 100).reshape(-1, 1)\n",
    "# X_line_poly = poly.fit_transform(X_line)\n",
    "# y_pred_line = model.predict(X_line_poly)\n",
    "\n",
    "sns.scatterplot(x=X.ravel(), y=y.ravel())\n",
    "sns.lineplot(x=X_line.ravel(), y=y_pred_line.ravel())\n",
    "\n",
    "plt.axvline(0, color='black', linewidth=1, linestyle='--')\n",
    "plt.scatter(0, n, color='red', s=30)\n",
    "plt.text(-0.07, n + 0.03, f'[n]={n}', fontsize=10, color='black')\n",
    "plt.ylim(4.7, 5.7)"
   ]
  },
  {
   "cell_type": "code",
   "execution_count": 15,
   "metadata": {},
   "outputs": [
    {
     "name": "stdout",
     "output_type": "stream",
     "text": [
      "Характеристическая вязкость = 5.15\n",
      "R2 = 0.933\n"
     ]
    },
    {
     "data": {
      "text/plain": [
       "(3.0, 5.2)"
      ]
     },
     "execution_count": 15,
     "metadata": {},
     "output_type": "execute_result"
    },
    {
     "data": {
      "image/png": "[encoded data removed]",
      "text/plain": [
       "<Figure size 640x480 with 1 Axes>"
      ]
     },
     "metadata": {},
     "output_type": "display_data"
    }
   ],
   "source": [
    "X = data['C'].to_numpy().reshape(-1, 1)\n",
    "y_ln = data['ln(n_отн)/C'].to_numpy().reshape(-1, 1)\n",
    "\n",
    "model = LinearRegression()\n",
    "model.fit(X=X, y=y_ln)\n",
    "y_ln_pred = model.predict(X)\n",
    "X_ln_line = np.linspace(0, 0.5, 10).reshape(-1, 1)\n",
    "y_ln_pred_line = model.predict(X_ln_line)\n",
    "\n",
    "n_ln = model.intercept_[0].round(2)\n",
    "print(f'Характеристическая вязкость = {n_ln}')\n",
    "print(f'R2 = {r2_score(y_ln, y_ln_pred):.3f}')\n",
    "\n",
    "sns.scatterplot(x=X.ravel(), y=y_ln.ravel())\n",
    "sns.lineplot(x=X_ln_line.ravel(), y=y_ln_pred_line.ravel())\n",
    "\n",
    "plt.axvline(0, color='black', linewidth=1, linestyle='--')\n",
    "plt.scatter(0, n_ln, color='red', s=30)\n",
    "plt.text(-0.1, n_ln + 0.07, f'[n_ln]={n_ln}', fontsize=10, color='black')\n",
    "plt.ylim(3.0, 5.2)"
   ]
  },
  {
   "cell_type": "code",
   "execution_count": 17,
   "metadata": {},
   "outputs": [
    {
     "name": "stdout",
     "output_type": "stream",
     "text": [
      "[n] = 5.61 | Молекулярная масса = 47.68 кДа\n",
      "[n_ln] = 5.15 | Молекулярная масса (ln) = 44.45 кДа\n",
      "\n",
      "Таблица с данными:\n",
      "      C      T  n_уд  n_прив  n_отн  ln(n_отн)/C\n",
      "0  0.05  14.22  0.28    5.58   1.28         4.93\n",
      "1  0.10  16.79  0.51    5.11   1.51         4.13\n",
      "2  0.15  19.17  0.73    4.84   1.73         3.64\n",
      "3  0.20  21.71  0.95    4.77   1.95         3.35\n",
      "4  0.25  24.29  1.19    4.74   2.19         3.13\n"
     ]
    },
    {
     "data": {
      "text/plain": [
       "Text(-0.1, 5.220000000000001, '[n_ln]=5.15')"
      ]
     },
     "execution_count": 17,
     "metadata": {},
     "output_type": "execute_result"
    },
    {
     "data": {
      "image/png": "[encoded data removed]",
      "text/plain": [
       "<Figure size 640x480 with 1 Axes>"
      ]
     },
     "metadata": {},
     "output_type": "display_data"
    }
   ],
   "source": [
    "K = 1.1*10**(-5)\n",
    "a = 1.22\n",
    "\n",
    "MM = (n/K)**(1/1.22)/1000\n",
    "print(f'[n] = {n} | Молекулярная масса = {MM:.2f} кДа')\n",
    "\n",
    "MM_ln = (n_ln/K)**(1/1.22)/1000\n",
    "print(f'[n_ln] = {n_ln} | Молекулярная масса (ln) = {MM_ln:.2f} кДа')\n",
    "\n",
    "print(f'\\nТаблица с данными:\\n{data}')\n",
    "\n",
    "sns.scatterplot(x=X.ravel(), y=y.ravel())\n",
    "sns.lineplot(x=X_line.ravel(), y=y_pred_line.ravel())\n",
    "sns.scatterplot(x=X.ravel(), y=y_ln.ravel())\n",
    "sns.lineplot(x=X_ln_line.ravel(), y=y_ln_pred_line.ravel())\n",
    "\n",
    "plt.axvline(0, color='black', linewidth=1, linestyle='--')\n",
    "plt.scatter(0, n, color='red', s=30)\n",
    "plt.scatter(0, n_ln, color='red', s=30)\n",
    "plt.text(-0.07, n + 0.03, f'[n]={n:.2f}', fontsize=10, color='black')\n",
    "plt.text(-0.1, n_ln + 0.07, f'[n_ln]={n_ln:.2f}', fontsize=10, color='black')"
   ]
  },
  {
   "cell_type": "code",
   "execution_count": 53,
   "metadata": {},
   "outputs": [
    {
     "data": {
      "text/html": [
       "<div>\n",
       "<style scoped>\n",
       "    .dataframe tbody tr th:only-of-type {\n",
       "        vertical-align: middle;\n",
       "    }\n",
       "\n",
       "    .dataframe tbody tr th {\n",
       "        vertical-align: top;\n",
       "    }\n",
       "\n",
       "    .dataframe thead th {\n",
       "        text-align: right;\n",
       "    }\n",
       "</style>\n",
       "<table border=\"1\" class=\"dataframe\">\n",
       "  <thead>\n",
       "    <tr style=\"text-align: right;\">\n",
       "      <th></th>\n",
       "      <th>C</th>\n",
       "      <th>n_отн</th>\n",
       "    </tr>\n",
       "  </thead>\n",
       "  <tbody>\n",
       "    <tr>\n",
       "      <th>0</th>\n",
       "      <td>0.01</td>\n",
       "      <td>1.10</td>\n",
       "    </tr>\n",
       "    <tr>\n",
       "      <th>1</th>\n",
       "      <td>0.02</td>\n",
       "      <td>1.14</td>\n",
       "    </tr>\n",
       "    <tr>\n",
       "      <th>2</th>\n",
       "      <td>0.04</td>\n",
       "      <td>1.23</td>\n",
       "    </tr>\n",
       "    <tr>\n",
       "      <th>3</th>\n",
       "      <td>0.06</td>\n",
       "      <td>1.33</td>\n",
       "    </tr>\n",
       "    <tr>\n",
       "      <th>4</th>\n",
       "      <td>0.08</td>\n",
       "      <td>1.42</td>\n",
       "    </tr>\n",
       "    <tr>\n",
       "      <th>5</th>\n",
       "      <td>0.10</td>\n",
       "      <td>1.51</td>\n",
       "    </tr>\n",
       "  </tbody>\n",
       "</table>\n",
       "</div>"
      ],
      "text/plain": [
       "      C  n_отн\n",
       "0  0.01   1.10\n",
       "1  0.02   1.14\n",
       "2  0.04   1.23\n",
       "3  0.06   1.33\n",
       "4  0.08   1.42\n",
       "5  0.10   1.51"
      ]
     },
     "execution_count": 53,
     "metadata": {},
     "output_type": "execute_result"
    }
   ],
   "source": [
    "# расчет концентраций растворов пектина, при которых 1.1 < n_отн < 1.5\n",
    "\n",
    "X = data['C'].to_numpy().reshape(-1, 1)\n",
    "y = data['n_отн'].to_numpy().reshape(-1, 1)\n",
    "\n",
    "model = LinearRegression()\n",
    "model.fit(X, y)\n",
    "\n",
    "y_pred = model.predict(X)\n",
    "\n",
    "l = [0.01, 0.02, 0.04, 0.06, 0.08, 0.1]\n",
    "predictions = []\n",
    "for i in l:\n",
    "    y_1 = model.predict([[i]]).ravel()[0].round(2)\n",
    "    predictions.append(y_1)\n",
    "\n",
    "df = pd.DataFrame({\n",
    "    'C': l,\n",
    "    'n_отн': predictions\n",
    "})\n",
    "df\n"
   ]
  }
 ],
 "metadata": {
  "kernelspec": {
   "display_name": "myenv",
   "language": "python",
   "name": "python3"
  },
  "language_info": {
   "codemirror_mode": {
    "name": "ipython",
    "version": 3
   },
   "file_extension": ".py",
   "mimetype": "text/x-python",
   "name": "python",
   "nbconvert_exporter": "python",
   "pygments_lexer": "ipython3",
   "version": "3.11.0"
  }
 },
 "nbformat": 4,
 "nbformat_minor": 2
}
