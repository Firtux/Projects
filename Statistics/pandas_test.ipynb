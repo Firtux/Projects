{
 "cells": [
  {
   "cell_type": "code",
   "execution_count": 29,
   "metadata": {},
   "outputs": [
    {
     "name": "stdout",
     "output_type": "stream",
     "text": [
      "0        77.908627\n",
      "2        77.989503\n",
      "3        77.773322\n",
      "4        77.443791\n",
      "5        78.000000\n",
      "6        76.000000\n",
      "7        45.000000\n",
      "8     10000.000000\n",
      "9              NaN\n",
      "10             NaN\n",
      "Name: a, dtype: float64\n"
     ]
    }
   ],
   "source": [
    "import pandas as pd\n",
    "\n",
    "a = [77.90862701, 77.87894303, 77.98950278, 77.77332218, 77.44379058, 78, 76, 45, 10000]\n",
    "b = [47.9, 47.8, 47.9, 47.7, 47.4, 48, 46, 88, 20000]\n",
    "c = [12, 13, 12, 14, 12, 13, 16, 12, 13, 16, 11]\n",
    "d = [156, 185, 345]\n",
    "\n",
    "dataset = [a, b, c, d]\n",
    "dataname = ['a', 'b', 'c', 'd']\n",
    "\n",
    "len_dataset = []\n",
    "for i in dataset:\n",
    "    len_dataset.append(len(i))\n",
    "\n",
    "for i in dataset:\n",
    "    if len(i)<max(len_dataset):\n",
    "       while len(i)<max(len_dataset):\n",
    "           i.append(None)\n",
    "\n",
    "data = pd.DataFrame()\n",
    "\n",
    "for d, n in zip(dataset, dataname):\n",
    "    data[n] = d\n",
    "\n",
    "for k in data.keys():\n",
    "    arr = data.get(k)\n",
    "    arr = arr.dropna()\n",
    "\n",
    "ar = data.get('a')\n",
    "ar = ar.drop([1])\n",
    "print(ar)\n"
   ]
  },
  {
   "cell_type": "code",
   "execution_count": null,
   "metadata": {},
   "outputs": [],
   "source": []
  }
 ],
 "metadata": {
  "kernelspec": {
   "display_name": "myenv",
   "language": "python",
   "name": "python3"
  },
  "language_info": {
   "codemirror_mode": {
    "name": "ipython",
    "version": 3
   },
   "file_extension": ".py",
   "mimetype": "text/x-python",
   "name": "python",
   "nbconvert_exporter": "python",
   "pygments_lexer": "ipython3",
   "version": "3.11.0"
  }
 },
 "nbformat": 4,
 "nbformat_minor": 2
}
