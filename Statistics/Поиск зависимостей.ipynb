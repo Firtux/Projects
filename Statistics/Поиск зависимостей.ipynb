{
 "cells": [
  {
   "cell_type": "code",
   "execution_count": 6,
   "metadata": {},
   "outputs": [
    {
     "name": "stderr",
     "output_type": "stream",
     "text": [
      "C:\\Users\\nadys\\AppData\\Local\\Temp\\ipykernel_10064\\3784636772.py:5: DtypeWarning: Columns (2) have mixed types. Specify dtype option on import or set low_memory=False.\n",
      "  data = pd.DataFrame(pd.read_csv(r'C:\\Users\\nadys\\.cache\\kagglehub\\datasets\\marmarplz\\student-academic-grades-and-programs\\versions\\8\\StudentGradesAndPrograms.csv'))\n"
     ]
    },
    {
     "data": {
      "text/plain": [
       "0         2000.0\n",
       "1         2000.0\n",
       "2         1950.0\n",
       "3         1850.0\n",
       "4         1500.0\n",
       "           ...  \n",
       "200989       0.0\n",
       "200990       0.0\n",
       "200991       0.0\n",
       "200992       0.0\n",
       "200993       0.0\n",
       "Name: gradePercentage, Length: 200994, dtype: float64"
      ]
     },
     "execution_count": 6,
     "metadata": {},
     "output_type": "execute_result"
    }
   ],
   "source": [
    "import pandas as pd\n",
    "from scipy.stats import chi2_contingency\n",
    "import seaborn as sns\n",
    "\n",
    "data = pd.DataFrame(pd.read_csv(r'C:\\Users\\nadys\\.cache\\kagglehub\\datasets\\marmarplz\\student-academic-grades-and-programs\\versions\\8\\StudentGradesAndPrograms.csv'))\n",
    "\n",
    "data.gradePercentage\n"
   ]
  },
  {
   "cell_type": "code",
   "execution_count": null,
   "metadata": {},
   "outputs": [
    {
     "data": {
      "text/plain": [
       "<Axes: xlabel='gradePercentage', ylabel='Count'>"
      ]
     },
     "execution_count": 8,
     "metadata": {},
     "output_type": "execute_result"
    },
    {
     "data": {
      "image/png": "[encoded data removed]",
      "text/plain": [
       "<Figure size 640x480 with 1 Axes>"
      ]
     },
     "metadata": {},
     "output_type": "display_data"
    }
   ],
   "source": [
    "sns.histplot(data['gradePercentage'])"
   ]
  },
  {
   "cell_type": "code",
   "execution_count": 43,
   "metadata": {},
   "outputs": [
    {
     "name": "stdout",
     "output_type": "stream",
     "text": [
      "χ²: 40713.554660237336, p-значение: 0.0\n"
     ]
    }
   ],
   "source": [
    "# критерий Пирсона (корреляция)\n",
    "\n",
    "contingency_table = pd.crosstab(data['Age'], data['CGPA'])\n",
    "\n",
    "# print(contingency_table)\n",
    "\n",
    "chi2, p, dof, expected = chi2_contingency(contingency_table)\n",
    "\n",
    "print(f\"χ²: {chi2}, p-значение: {p}\")"
   ]
  },
  {
   "cell_type": "code",
   "execution_count": 8,
   "metadata": {},
   "outputs": [
    {
     "ename": "AttributeError",
     "evalue": "'numpy.ndarray' object has no attribute 'keys'",
     "output_type": "error",
     "traceback": [
      "\u001b[1;31m---------------------------------------------------------------------------\u001b[0m",
      "\u001b[1;31mAttributeError\u001b[0m                            Traceback (most recent call last)",
      "Cell \u001b[1;32mIn[8], line 4\u001b[0m\n\u001b[0;32m      1\u001b[0m \u001b[38;5;28;01mfrom\u001b[39;00m \u001b[38;5;21;01moutliers\u001b[39;00m \u001b[38;5;28;01mimport\u001b[39;00m outliers \u001b[38;5;28;01mas\u001b[39;00m otr\n\u001b[0;32m      2\u001b[0m \u001b[38;5;28;01mimport\u001b[39;00m \u001b[38;5;21;01mnumpy\u001b[39;00m \u001b[38;5;28;01mas\u001b[39;00m \u001b[38;5;21;01mnp\u001b[39;00m\n\u001b[1;32m----> 4\u001b[0m \u001b[43motr\u001b[49m\u001b[38;5;241;43m.\u001b[39;49m\u001b[43mquant_outlier\u001b[49m\u001b[43m(\u001b[49m\u001b[43mnp\u001b[49m\u001b[38;5;241;43m.\u001b[39;49m\u001b[43marray\u001b[49m\u001b[43m(\u001b[49m\u001b[43mdata\u001b[49m\u001b[43m[\u001b[49m\u001b[38;5;124;43m'\u001b[39;49m\u001b[38;5;124;43mgradePercentage\u001b[39;49m\u001b[38;5;124;43m'\u001b[39;49m\u001b[43m]\u001b[49m\u001b[43m)\u001b[49m\u001b[43m)\u001b[49m\n",
      "File \u001b[1;32mg:\\Другие компьютеры\\Компьютер\\Projects\\Statistics\\outliers\\outliers.py:9\u001b[0m, in \u001b[0;36mquant_outlier\u001b[1;34m(data)\u001b[0m\n\u001b[0;32m      7\u001b[0m quant \u001b[38;5;241m=\u001b[39m []\n\u001b[0;32m      8\u001b[0m outliers \u001b[38;5;241m=\u001b[39m []\n\u001b[1;32m----> 9\u001b[0m \u001b[38;5;28;01mfor\u001b[39;00m k \u001b[38;5;129;01min\u001b[39;00m \u001b[43mdata\u001b[49m\u001b[38;5;241;43m.\u001b[39;49m\u001b[43mkeys\u001b[49m():\n\u001b[0;32m     10\u001b[0m     arr \u001b[38;5;241m=\u001b[39m data\u001b[38;5;241m.\u001b[39mget(k)\n\u001b[0;32m     11\u001b[0m     quant25 \u001b[38;5;241m=\u001b[39m np\u001b[38;5;241m.\u001b[39mquantile(arr, \u001b[38;5;241m0.25\u001b[39m)\n",
      "\u001b[1;31mAttributeError\u001b[0m: 'numpy.ndarray' object has no attribute 'keys'"
     ]
    }
   ],
   "source": [
    "from outliers import outliers as otr\n",
    "import numpy as np\n",
    "\n",
    "otr.quant_outlier(np.array(data['gradePercentage']))"
   ]
  },
  {
   "cell_type": "code",
   "execution_count": null,
   "metadata": {},
   "outputs": [],
   "source": []
  }
 ],
 "metadata": {
  "kernelspec": {
   "display_name": "myenv",
   "language": "python",
   "name": "python3"
  },
  "language_info": {
   "codemirror_mode": {
    "name": "ipython",
    "version": 3
   },
   "file_extension": ".py",
   "mimetype": "text/x-python",
   "name": "python",
   "nbconvert_exporter": "python",
   "pygments_lexer": "ipython3",
   "version": "3.11.0"
  }
 },
 "nbformat": 4,
 "nbformat_minor": 2
}
