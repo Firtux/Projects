{
 "cells": [
  {
   "cell_type": "code",
   "execution_count": 2,
   "metadata": {
    "executionInfo": {
     "elapsed": 2525,
     "status": "ok",
     "timestamp": 1733558376481,
     "user": {
      "displayName": "Даниил Болдинов",
      "userId": "07557295132084727833"
     },
     "user_tz": -420
    },
    "id": "caNbK2EnocC_"
   },
   "outputs": [],
   "source": [
    "import numpy as np\n",
    "import seaborn as sns\n",
    "import pandas as pd\n",
    "import scipy.stats as sps"
   ]
  },
  {
   "cell_type": "code",
   "execution_count": 30,
   "metadata": {
    "colab": {
     "base_uri": "https://localhost:8080/"
    },
    "executionInfo": {
     "elapsed": 292,
     "status": "ok",
     "timestamp": 1733561121023,
     "user": {
      "displayName": "Даниил Болдинов",
      "userId": "07557295132084727833"
     },
     "user_tz": -420
    },
    "id": "gRcVFU4Pop1z",
    "outputId": "bafe96a2-0a0e-4f54-b4bc-04b81d568c33"
   },
   "outputs": [
    {
     "name": "stdout",
     "output_type": "stream",
     "text": [
      "['1.93', '2.50', '2.05', '2.18', '2.28']\n",
      "2.19\n"
     ]
    }
   ],
   "source": [
    "# генерация нормального распределения при определенной дисперсии и среднем значении\n",
    "# определение выбросов в полученном распределении\n",
    "\n",
    "avg = 2.19\n",
    "sd = 0.2\n",
    "count = 5\n",
    "dots = '.2f'\n",
    "\n",
    "low = 2.185\n",
    "high = 2.195\n",
    "\n",
    "sample = sps.norm(avg, sd).rvs(count)\n",
    "aver = sum(sample)/len(sample)\n",
    "\n",
    "while aver<low or aver>high:\n",
    "  sample = sps.norm(avg, sd).rvs(count)\n",
    "  aver = sum(sample)/len(sample)\n",
    "else:\n",
    "  quant25 = np.quantile(sample, 0.25)\n",
    "  quant75 = np.quantile(sample, 0.75)\n",
    "  quant_scope = quant75 - quant25\n",
    "\n",
    "  for i in sample:\n",
    "    if i<(quant25-1.5*quant_scope) or i>(quant75+1.5*quant_scope):\n",
    "      print('Выброс:', i)\n",
    "    else:\n",
    "      # print('Выбросов нет')\n",
    "      continue\n",
    "  samp = []\n",
    "  for i in sample:\n",
    "    samp.append(format(i, dots))\n",
    "  print(samp)\n",
    "  print(format(aver, dots))"
   ]
  },
  {
   "cell_type": "code",
   "execution_count": null,
   "metadata": {
    "id": "O3BmReYZrsN0"
   },
   "outputs": [],
   "source": []
  }
 ],
 "metadata": {
  "colab": {
   "authorship_tag": "ABX9TyOqnPPPmb7iTgLZSnzzNTfR",
   "provenance": []
  },
  "kernelspec": {
   "display_name": "Python 3",
   "name": "python3"
  },
  "language_info": {
   "name": "python"
  }
 },
 "nbformat": 4,
 "nbformat_minor": 0
}
