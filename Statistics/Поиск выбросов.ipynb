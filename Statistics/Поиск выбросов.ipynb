{
 "cells": [
  {
   "cell_type": "code",
   "execution_count": 2,
   "id": "b4cd3232-1c24-436d-b2a6-2bbe4ab33f24",
   "metadata": {},
   "outputs": [
    {
     "name": "stdout",
     "output_type": "stream",
     "text": [
      "Результаты теста Граббса:\n",
      "Для следующих выборок тест неприменим (количество элементов <7): [3]\n",
      "Выбросы в таблице:\n",
      "   Выборки       Выбросы\n",
      "0        0  10000.000000\n",
      "0        0     45.000000\n",
      "0        0     76.000000\n",
      "0        0     77.443791\n",
      "0        1  20000.000000\n",
      "0        1     88.000000\n",
      "0        1     46.000000\n",
      "0        1     47.400000\n",
      "0        2     16.000000\n",
      "По методу квантилей выбросы в таблице:\n",
      "   Выборки  Выбросы\n",
      "0        0     76.0\n",
      "1        0     45.0\n",
      "2        0  10000.0\n",
      "3        1     46.0\n",
      "4        1     88.0\n",
      "5        1  20000.0\n",
      "6        2     16.0\n"
     ]
    }
   ],
   "source": [
    "import pandas as pd\n",
    "import scipy.stats as stats\n",
    "import seaborn as sns\n",
    "import matplotlib.pyplot as plt\n",
    "import numpy as np\n",
    "\n",
    "import outliers.outliers as otr\n",
    "\n",
    "a = [77.90862701, 77.87894303, 77.98950278, 77.77332218, 77.44379058, 78, 76, 45, 10000]\n",
    "b = [47.9, 47.8, 47.9, 47.7, 47.4, 48, 46, 88, 20000]\n",
    "c = [12, 13, 12, 14, 12, 13, 16, 12, 13, 16, 11]\n",
    "d = [156, 185, 345]\n",
    "\n",
    "dataset = [a, b, c, d]\n",
    "# dataname = ['a', 'b', 'c', 'd']\n",
    "\n",
    "data = pd.DataFrame()\n",
    "for d, n in zip(dataset, range(len(dataset))):\n",
    "   data[n] = pd.Series(d)\n",
    "\n",
    "# data[1] = pd.Series(c)\n",
    "# data[2] = pd.Series(d)\n",
    "\n",
    "# data = pd.DataFrame({\n",
    "#     'a': pd.Series(a),\n",
    "#     'b': pd.Series(b),\n",
    "#     'c': pd.Series(c),\n",
    "#     'd': pd.Series(d)\n",
    "# })\n",
    "\n",
    "# print(data)\n",
    "\n",
    "otr.grubbs_test(data)\n",
    "otr.quant_outlier(data)"
   ]
  },
  {
   "cell_type": "code",
   "execution_count": null,
   "id": "75831390",
   "metadata": {},
   "outputs": [],
   "source": []
  }
 ],
 "metadata": {
  "kernelspec": {
   "display_name": "myenv",
   "language": "python",
   "name": "python3"
  },
  "language_info": {
   "codemirror_mode": {
    "name": "ipython",
    "version": 3
   },
   "file_extension": ".py",
   "mimetype": "text/x-python",
   "name": "python",
   "nbconvert_exporter": "python",
   "pygments_lexer": "ipython3",
   "version": "3.11.0"
  }
 },
 "nbformat": 4,
 "nbformat_minor": 5
}
