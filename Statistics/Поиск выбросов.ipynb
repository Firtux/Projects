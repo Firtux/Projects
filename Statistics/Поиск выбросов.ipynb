{
 "cells": [
  {
   "cell_type": "code",
   "execution_count": 24,
   "id": "b4cd3232-1c24-436d-b2a6-2bbe4ab33f24",
   "metadata": {},
   "outputs": [
    {
     "name": "stdout",
     "output_type": "stream",
     "text": [
      "              0        1   2      3\n",
      "0     77.908627     47.9  12  156.0\n",
      "1     45.000000     47.8  13  185.0\n",
      "2     77.989503  20000.0  12  345.0\n",
      "3     77.773322     47.7  14    NaN\n",
      "4     77.443791     47.4  12    NaN\n",
      "5     78.000000     48.0  13    NaN\n",
      "6     77.878943     46.0  16    NaN\n",
      "7     76.000000     88.0  12    NaN\n",
      "8  10000.000000     47.9  13    NaN\n",
      "По методу квантилей выбросы в таблице:\n",
      "   Выборки  Выбросы\n",
      "0        0     45.0\n",
      "1        0     76.0\n",
      "2        0  10000.0\n",
      "3        1  20000.0\n",
      "4        1     46.0\n",
      "5        1     88.0\n",
      "6        2     16.0\n"
     ]
    }
   ],
   "source": [
    "import pandas as pd\n",
    "import scipy.stats as stats\n",
    "import seaborn as sns\n",
    "import matplotlib.pyplot as plt\n",
    "import numpy as np\n",
    "\n",
    "from user_modules import outliers as otr\n",
    "\n",
    "a = [77.90862701, 45, 77.98950278, 77.77332218, 77.44379058, 78, 77.87894303, 76, 10000]\n",
    "b = [47.9, 47.8, 20000, 47.7, 47.4, 48, 46, 88, 47.9]\n",
    "c = [12, 13, 12, 14, 12, 13, 16, 12, 13, 16, 11]\n",
    "d = [156, 185, 345]\n",
    "\n",
    "dataset = [a, b, c, d]\n",
    "# dataname = ['a', 'b', 'c', 'd']\n",
    "\n",
    "data = pd.DataFrame()\n",
    "for d, n in zip(dataset, range(len(dataset))):\n",
    "   data[n] = pd.Series(d)\n",
    "\n",
    "# data[1] = pd.Series(c)\n",
    "# data[2] = pd.Series(d)\n",
    "\n",
    "# data = pd.DataFrame({\n",
    "#     'a': pd.Series(a),\n",
    "#     'b': pd.Series(b),\n",
    "#     'c': pd.Series(c),\n",
    "#     'd': pd.Series(d)\n",
    "# })\n",
    "\n",
    "print(data)\n",
    "\n",
    "# otr.grubbs_test(data)\n",
    "otr.quant_outlier(data)"
   ]
  },
  {
   "cell_type": "code",
   "execution_count": 23,
   "id": "75831390",
   "metadata": {},
   "outputs": [
    {
     "data": {
      "text/html": [
       "<div>\n",
       "<style scoped>\n",
       "    .dataframe tbody tr th:only-of-type {\n",
       "        vertical-align: middle;\n",
       "    }\n",
       "\n",
       "    .dataframe tbody tr th {\n",
       "        vertical-align: top;\n",
       "    }\n",
       "\n",
       "    .dataframe thead th {\n",
       "        text-align: right;\n",
       "    }\n",
       "</style>\n",
       "<table border=\"1\" class=\"dataframe\">\n",
       "  <thead>\n",
       "    <tr style=\"text-align: right;\">\n",
       "      <th></th>\n",
       "      <th>0</th>\n",
       "      <th>1</th>\n",
       "      <th>2</th>\n",
       "      <th>3</th>\n",
       "    </tr>\n",
       "  </thead>\n",
       "  <tbody>\n",
       "    <tr>\n",
       "      <th>0</th>\n",
       "      <td>77.908627</td>\n",
       "      <td>47.9</td>\n",
       "      <td>12</td>\n",
       "      <td>156.0</td>\n",
       "    </tr>\n",
       "    <tr>\n",
       "      <th>1</th>\n",
       "      <td>45.000000</td>\n",
       "      <td>47.8</td>\n",
       "      <td>13</td>\n",
       "      <td>185.0</td>\n",
       "    </tr>\n",
       "    <tr>\n",
       "      <th>3</th>\n",
       "      <td>77.773322</td>\n",
       "      <td>47.7</td>\n",
       "      <td>14</td>\n",
       "      <td>NaN</td>\n",
       "    </tr>\n",
       "    <tr>\n",
       "      <th>4</th>\n",
       "      <td>77.443791</td>\n",
       "      <td>47.4</td>\n",
       "      <td>12</td>\n",
       "      <td>NaN</td>\n",
       "    </tr>\n",
       "    <tr>\n",
       "      <th>5</th>\n",
       "      <td>78.000000</td>\n",
       "      <td>48.0</td>\n",
       "      <td>13</td>\n",
       "      <td>NaN</td>\n",
       "    </tr>\n",
       "    <tr>\n",
       "      <th>7</th>\n",
       "      <td>76.000000</td>\n",
       "      <td>88.0</td>\n",
       "      <td>12</td>\n",
       "      <td>NaN</td>\n",
       "    </tr>\n",
       "  </tbody>\n",
       "</table>\n",
       "</div>"
      ],
      "text/plain": [
       "           0     1   2      3\n",
       "0  77.908627  47.9  12  156.0\n",
       "1  45.000000  47.8  13  185.0\n",
       "3  77.773322  47.7  14    NaN\n",
       "4  77.443791  47.4  12    NaN\n",
       "5  78.000000  48.0  13    NaN\n",
       "7  76.000000  88.0  12    NaN"
      ]
     },
     "execution_count": 23,
     "metadata": {},
     "output_type": "execute_result"
    }
   ],
   "source": [
    "from sklearn.ensemble import IsolationForest\n",
    "\n",
    "clf = IsolationForest()\n",
    "clf.fit(data)\n",
    "\n",
    "data['anomaly'] = clf.predict(data)\n",
    "data = data[data.anomaly == 1]\n",
    "data = data.drop(columns = 'anomaly')\n",
    "data"
   ]
  },
  {
   "cell_type": "code",
   "execution_count": 45,
   "id": "a8c2c82c",
   "metadata": {},
   "outputs": [
    {
     "name": "stdout",
     "output_type": "stream",
     "text": [
      "<class 'numpy.ndarray'>\n"
     ]
    }
   ],
   "source": [
    "from sklearn.ensemble import IsolationForest\n",
    "import numpy as np\n",
    "\n",
    "def otr_sklearn(x):\n",
    "    clf = IsolationForest()\n",
    "    arr = np.array(x).reshape(-1, 1)\n",
    "    clf.fit(arr)\n",
    "    s = clf.predict(arr)\n",
    "    return s\n",
    "\n",
    "otr_sklearn(d)\n",
    "\n",
    "print(type(arr))"
   ]
  }
 ],
 "metadata": {
  "kernelspec": {
   "display_name": "myenv",
   "language": "python",
   "name": "python3"
  },
  "language_info": {
   "codemirror_mode": {
    "name": "ipython",
    "version": 3
   },
   "file_extension": ".py",
   "mimetype": "text/x-python",
   "name": "python",
   "nbconvert_exporter": "python",
   "pygments_lexer": "ipython3",
   "version": "3.11.0"
  }
 },
 "nbformat": 4,
 "nbformat_minor": 5
}
