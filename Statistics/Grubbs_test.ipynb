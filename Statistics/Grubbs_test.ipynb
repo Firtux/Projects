{
 "cells": [
  {
   "cell_type": "markdown",
   "metadata": {
    "id": "7OXIuCddzEaP"
   },
   "source": [
    "Тест (критерий) Граббса"
   ]
  },
  {
   "cell_type": "code",
   "execution_count": 1,
   "metadata": {
    "executionInfo": {
     "elapsed": 7618,
     "status": "ok",
     "timestamp": 1734354266384,
     "user": {
      "displayName": "Даниил Болдинов",
      "userId": "07557295132084727833"
     },
     "user_tz": -420
    },
    "id": "xJYg2AhfzAFB"
   },
   "outputs": [],
   "source": [
    "import numpy as np\n",
    "import seaborn as sns\n",
    "import pandas as pd\n",
    "from scipy import stats"
   ]
  },
  {
   "cell_type": "code",
   "execution_count": 2,
   "metadata": {
    "executionInfo": {
     "elapsed": 313,
     "status": "ok",
     "timestamp": 1734354273405,
     "user": {
      "displayName": "Даниил Болдинов",
      "userId": "07557295132084727833"
     },
     "user_tz": -420
    },
    "id": "Lt8E6XDGzQy3"
   },
   "outputs": [],
   "source": [
    "group1 = [77.90862701, 77.87894303, 77.98950278, 77.77332218, 77.44379058, 78, 76, 45, 10000]\n",
    "group2 = [57.2, 68.6, 104.4, 95.1, 89.9, 70.8, 83.5, 60.1, 75.7, 102.0, 69.0, 79.6, 68.9, 98.6, 76.0, 74.8, 56.0, 55.6, 69.4, 59.5]"
   ]
  },
  {
   "cell_type": "code",
   "execution_count": 3,
   "metadata": {
    "executionInfo": {
     "elapsed": 306,
     "status": "ok",
     "timestamp": 1734354275362,
     "user": {
      "displayName": "Даниил Болдинов",
      "userId": "07557295132084727833"
     },
     "user_tz": -420
    },
    "id": "B1Ly7N8szCGP"
   },
   "outputs": [],
   "source": [
    "def grubbs_stat(y):\n",
    "    std_dev = np.std(y)\n",
    "    avg_y = np.mean(y)\n",
    "    abs_val_minus_avg = abs(y - avg_y)\n",
    "    max_of_deviations = max(abs_val_minus_avg)\n",
    "    max_ind = np.argmax(abs_val_minus_avg)\n",
    "    Gcal = max_of_deviations / std_dev\n",
    "    print(f\"Grubbs Statistics Value: {Gcal}\")\n",
    "    return Gcal, max_ind\n",
    "\n",
    "def calculate_critical_value(size, alpha):\n",
    "    t_dist = stats.t.ppf(1 - alpha / (2 * size), size - 2)\n",
    "    numerator = (size - 1) * np.sqrt(np.square(t_dist))\n",
    "    denominator = np.sqrt(size) * np.sqrt(size - 2 + np.square(t_dist))\n",
    "    critical_value = numerator / denominator\n",
    "    print(f\"Grubbs Critical Value: {critical_value}\")\n",
    "    return critical_value\n",
    "\n",
    "def check_G_values(Gs, Gc, inp, max_index):\n",
    "    if Gs > Gc:\n",
    "        print(f\"{inp[max_index]} is an outlier\")\n",
    "    else:\n",
    "        print(f\"{inp[max_index]} is not an outlier\")"
   ]
  },
  {
   "cell_type": "code",
   "execution_count": 5,
   "metadata": {
    "colab": {
     "base_uri": "https://localhost:8080/"
    },
    "executionInfo": {
     "elapsed": 427,
     "status": "ok",
     "timestamp": 1734354278608,
     "user": {
      "displayName": "Даниил Болдинов",
      "userId": "07557295132084727833"
     },
     "user_tz": -420
    },
    "id": "7FknrZCDzXAe",
    "outputId": "ab5fa2c2-8f69-4c97-dc33-9f9a12f92cc9"
   },
   "outputs": [
    {
     "name": "stdout",
     "output_type": "stream",
     "text": [
      "Grubbs Critical Value: 2.215004223325564\n",
      "Grubbs Statistics Value: 2.828412087233517\n",
      "10000 is an outlier\n"
     ]
    }
   ],
   "source": [
    "Gcritical = calculate_critical_value(len(group1), 0.05)\n",
    "Gstat, max_index = grubbs_stat(group1)\n",
    "check_G_values(Gstat, Gcritical, group1, max_index)"
   ]
  },
  {
   "cell_type": "code",
   "execution_count": null,
   "metadata": {
    "colab": {
     "base_uri": "https://localhost:8080/"
    },
    "executionInfo": {
     "elapsed": 270,
     "status": "ok",
     "timestamp": 1733466057745,
     "user": {
      "displayName": "Даниил Болдинов",
      "userId": "07557295132084727833"
     },
     "user_tz": -420
    },
    "id": "6wiFyApYa312",
    "outputId": "a6f10124-440c-4af1-ad3c-76a562a3dd5c"
   },
   "outputs": [
    {
     "name": "stdout",
     "output_type": "stream",
     "text": [
      "Выбросов нет\n",
      "Выбросов нет\n",
      "Выбросов нет\n",
      "Выбросов нет\n",
      "Выброс: 77.44379058\n"
     ]
    }
   ],
   "source": [
    "quant25 = np.quantile(group1, 0.25)\n",
    "quant75 = np.quantile(group1, 0.75)\n",
    "quant_scope = quant75 - quant25\n",
    "\n",
    "for i in group1:\n",
    "  if i<(quant25-1.5*quant_scope) or i>(quant75+1.5*quant_scope):\n",
    "    print(\"Выброс:\", i)\n",
    "  else:\n",
    "    print('Выбросов нет')\n",
    "    continue"
   ]
  },
  {
   "cell_type": "code",
   "execution_count": null,
   "metadata": {
    "colab": {
     "base_uri": "https://localhost:8080/",
     "height": 428
    },
    "executionInfo": {
     "elapsed": 303,
     "status": "ok",
     "timestamp": 1733405287957,
     "user": {
      "displayName": "Даниил Болдинов",
      "userId": "07557295132084727833"
     },
     "user_tz": -420
    },
    "id": "lyBFe6h0-05v",
    "outputId": "1b25dd9b-f5ce-4f63-d133-6f19a72bb372"
   },
   "outputs": [
    {
     "data": {
      "text/plain": [
       "<Axes: >"
      ]
     },
     "execution_count": 58,
     "metadata": {},
     "output_type": "execute_result"
    },
    {
     "data": {
      "image/png": "[encoded data removed]",
      "text/plain": [
       "<Figure size 640x480 with 1 Axes>"
      ]
     },
     "metadata": {},
     "output_type": "display_data"
    }
   ],
   "source": [
    "sns.boxplot(group1)"
   ]
  },
  {
   "cell_type": "code",
   "execution_count": null,
   "metadata": {
    "id": "H7rRyelK-2c-"
   },
   "outputs": [],
   "source": []
  }
 ],
 "metadata": {
  "colab": {
   "authorship_tag": "ABX9TyNgcFn0T8E42PZW1ezmAKWd",
   "provenance": []
  },
  "kernelspec": {
   "display_name": "myenv",
   "language": "python",
   "name": "python3"
  },
  "language_info": {
   "codemirror_mode": {
    "name": "ipython",
    "version": 3
   },
   "file_extension": ".py",
   "mimetype": "text/x-python",
   "name": "python",
   "nbconvert_exporter": "python",
   "pygments_lexer": "ipython3",
   "version": "3.11.0"
  }
 },
 "nbformat": 4,
 "nbformat_minor": 0
}
