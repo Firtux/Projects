{
 "cells": [
  {
   "cell_type": "code",
   "execution_count": 9,
   "metadata": {
    "id": "gfKWqefLte7M"
   },
   "outputs": [
    {
     "name": "stdout",
     "output_type": "stream",
     "text": [
      "F-статистика: 11.083333333333325\n",
      "p-значение: 0.00187703258621099\n",
      "Отвергаем нулевую гипотезу: есть статистически значимые различия между группами.\n"
     ]
    },
    {
     "data": {
      "text/plain": [
       "<Axes: >"
      ]
     },
     "execution_count": 9,
     "metadata": {},
     "output_type": "execute_result"
    },
    {
     "data": {
      "image/png": "[encoded data removed]",
      "text/plain": [
       "<Figure size 640x480 with 1 Axes>"
      ]
     },
     "metadata": {},
     "output_type": "display_data"
    }
   ],
   "source": [
    "import scipy.stats as stats\n",
    "import matplotlib.pyplot as plt\n",
    "import seaborn as sns\n",
    "\n",
    "# Создаем данные: результаты тестов для трех групп\n",
    "group1 = [85, 86, 88, 90, 92]\n",
    "group2 = [78, 82, 84, 86, 88]\n",
    "group3 = [90, 91, 93, 95, 97]\n",
    "\n",
    "# Проводим однофакторный дисперсионный анализ\n",
    "f_statistic, p_value = stats.f_oneway(group1, group2, group3)\n",
    "\n",
    "# Выводим результаты\n",
    "print(\"F-статистика:\", f_statistic)\n",
    "print(\"p-значение:\", p_value)\n",
    "\n",
    "# Интерпретация\n",
    "alpha = 0.05\n",
    "if p_value < alpha:\n",
    "    print(\"Отвергаем нулевую гипотезу: есть статистически значимые различия между группами.\")\n",
    "else:\n",
    "    print(\"Не отвергаем нулевую гипотезу: нет статистически значимых различий между группами.\")\n",
    "\n",
    "sns.boxplot([group1, group2, group3],\n",
    "                     vert=True,  # создаем вертикальные боксы\n",
    "                     patch_artist=True, # для красоты заполним цветом боксы квантилей\n",
    ")"
   ]
  },
  {
   "cell_type": "code",
   "execution_count": 2,
   "metadata": {
    "colab": {
     "base_uri": "https://localhost:8080/"
    },
    "executionInfo": {
     "elapsed": 3451,
     "status": "ok",
     "timestamp": 1733633353357,
     "user": {
      "displayName": "Даниил Болдинов",
      "userId": "07557295132084727833"
     },
     "user_tz": -420
    },
    "id": "x5JAV3rKpuPY",
    "outputId": "7784b7e1-16bb-4c4b-f205-3bbdc9ab6621"
   },
   "outputs": [
    {
     "name": "stdout",
     "output_type": "stream",
     "text": [
      " Multiple Comparison of Means - Tukey HSD, FWER=0.05 \n",
      "=====================================================\n",
      "group1 group2 meandiff p-adj   lower    upper  reject\n",
      "-----------------------------------------------------\n",
      "     A      B  -0.9333 0.9514  -5.5959  3.7292  False\n",
      "     A      C  -5.3333 0.0189  -9.9959 -0.6708   True\n",
      "     A      D     -7.4 0.0005 -12.0626 -2.7374   True\n",
      "     B      C     -4.4  0.071  -9.0626  0.2626  False\n",
      "     B      D  -6.4667 0.0029 -11.1292 -1.8041   True\n",
      "     C      D  -2.0667 0.6458  -6.7292  2.5959  False\n",
      "-----------------------------------------------------\n"
     ]
    }
   ],
   "source": [
    "# Тест Тьюки для попарного сравнения всех групп между собой\n",
    "\n",
    "from statsmodels.stats.multicomp import pairwise_tukeyhsd\n",
    "\n",
    "tukey = pairwise_tukeyhsd(endog=data['expr'], groups=data['Therapy'], alpha=0.05)\n",
    "print(tukey)"
   ]
  }
 ],
 "metadata": {
  "colab": {
   "authorship_tag": "ABX9TyMmhzPc/XXHwWZElQVMY/r8",
   "provenance": []
  },
  "kernelspec": {
   "display_name": "myenv",
   "language": "python",
   "name": "python3"
  },
  "language_info": {
   "codemirror_mode": {
    "name": "ipython",
    "version": 3
   },
   "file_extension": ".py",
   "mimetype": "text/x-python",
   "name": "python",
   "nbconvert_exporter": "python",
   "pygments_lexer": "ipython3",
   "version": "3.11.0"
  }
 },
 "nbformat": 4,
 "nbformat_minor": 0
}
