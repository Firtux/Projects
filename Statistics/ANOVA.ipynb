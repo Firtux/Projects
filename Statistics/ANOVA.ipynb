{
 "cells": [
  {
   "cell_type": "code",
   "execution_count": 2,
   "metadata": {
    "colab": {
     "base_uri": "https://localhost:8080/",
     "height": 544
    },
    "executionInfo": {
     "elapsed": 1087,
     "status": "ok",
     "timestamp": 1733632160799,
     "user": {
      "displayName": "Даниил Болдинов",
      "userId": "07557295132084727833"
     },
     "user_tz": -420
    },
    "id": "ezEkREVppgY4",
    "outputId": "ade9be35-b1ba-4386-8194-9a6ad06c719c"
   },
   "outputs": [
    {
     "name": "stdout",
     "output_type": "stream",
     "text": [
      "F_onewayResult(statistic=np.float64(8.03730248114399), pvalue=np.float64(0.0001524972289522953))\n"
     ]
    },
    {
     "name": "stderr",
     "output_type": "stream",
     "text": [
      "C:\\Users\\nadys\\AppData\\Local\\Temp\\ipykernel_11548\\3460827330.py:19: UserWarning: marker is redundantly defined by the 'marker' keyword argument and the fmt string \"o\" (-> marker='o'). The keyword argument will take precedence.\n",
      "  plt.errorbar(x=name, y=means, yerr=sems,\n"
     ]
    },
    {
     "data": {
      "image/png": "[encoded data removed]",
      "text/plain": [
       "<Figure size 640x480 with 1 Axes>"
      ]
     },
     "metadata": {},
     "output_type": "display_data"
    }
   ],
   "source": [
    "import pandas as pd\n",
    "import scipy.stats as stats\n",
    "import seaborn as sns\n",
    "import matplotlib.pyplot as plt\n",
    "\n",
    "URL = 'https://stepik.org/media/attachments/lesson/8083/genetherapy.csv'\n",
    "data = pd.read_csv(URL)\n",
    "A = data[data[\"Therapy\"] == \"A\"][\"expr\"]\n",
    "B = data[data[\"Therapy\"] == \"B\"][\"expr\"]\n",
    "C = data[data[\"Therapy\"] == \"C\"][\"expr\"]\n",
    "D = data[data[\"Therapy\"] == \"D\"][\"expr\"]\n",
    "print(stats.f_oneway(A, B, C, D))\n",
    "\n",
    "means = [x for x in data.groupby(by='Therapy').mean().expr.values] # список средних значений\n",
    "sems = [x*1.96 for x in data.groupby(by='Therapy').mean().expr.values] # список se*1.96 для формирования доверительных интервалов\n",
    "\n",
    "name = ['A', 'B', 'C', 'D']\n",
    "\n",
    "plt.errorbar(x=name, y=means, yerr=sems,\n",
    "             ecolor='black', capsize=3, marker='s', markersize=4,\n",
    "             mfc='white', mec='black', fmt='o')\n",
    "plt.title('Уровень экспрессии гена при различной терапии')\n",
    "plt.grid()\n",
    "plt.xlabel('Терапия')\n",
    "plt.ylabel('Уровень экспресии')\n",
    "plt.show()\n"
   ]
  },
  {
   "cell_type": "code",
   "execution_count": 7,
   "metadata": {
    "colab": {
     "base_uri": "https://localhost:8080/"
    },
    "executionInfo": {
     "elapsed": 3451,
     "status": "ok",
     "timestamp": 1733633353357,
     "user": {
      "displayName": "Даниил Болдинов",
      "userId": "07557295132084727833"
     },
     "user_tz": -420
    },
    "id": "x5JAV3rKpuPY",
    "outputId": "7784b7e1-16bb-4c4b-f205-3bbdc9ab6621"
   },
   "outputs": [
    {
     "name": "stdout",
     "output_type": "stream",
     "text": [
      " Multiple Comparison of Means - Tukey HSD, FWER=0.05 \n",
      "=====================================================\n",
      "group1 group2 meandiff p-adj   lower    upper  reject\n",
      "-----------------------------------------------------\n",
      "     A      B  -0.9333 0.9514  -5.5959  3.7292  False\n",
      "     A      C  -5.3333 0.0189  -9.9959 -0.6708   True\n",
      "     A      D     -7.4 0.0005 -12.0626 -2.7374   True\n",
      "     B      C     -4.4  0.071  -9.0626  0.2626  False\n",
      "     B      D  -6.4667 0.0029 -11.1292 -1.8041   True\n",
      "     C      D  -2.0667 0.6458  -6.7292  2.5959  False\n",
      "-----------------------------------------------------\n"
     ]
    }
   ],
   "source": [
    "# Тест Тьюки для попарного сравнения всех групп между собой\n",
    "\n",
    "from statsmodels.stats.multicomp import pairwise_tukeyhsd\n",
    "\n",
    "tukey = pairwise_tukeyhsd(endog=data['expr'], groups=data['Therapy'], alpha=0.05)\n",
    "print(tukey)"
   ]
  },
  {
   "cell_type": "code",
   "execution_count": null,
   "metadata": {
    "id": "UOOSLMs6mAgw"
   },
   "outputs": [],
   "source": []
  },
  {
   "cell_type": "code",
   "execution_count": 10,
   "metadata": {
    "colab": {
     "base_uri": "https://localhost:8080/",
     "height": 263
    },
    "executionInfo": {
     "elapsed": 272,
     "status": "error",
     "timestamp": 1733635263164,
     "user": {
      "displayName": "Даниил Болдинов",
      "userId": "07557295132084727833"
     },
     "user_tz": -420
    },
    "id": "dUTAh5c5tPiU",
    "outputId": "de2f6593-edc6-4a1a-b731-a4edac731898"
   },
   "outputs": [
    {
     "ename": "AttributeError",
     "evalue": "'DataFrame' object has no attribute 'A'",
     "output_type": "error",
     "traceback": [
      "\u001b[0;31m---------------------------------------------------------------------------\u001b[0m",
      "\u001b[0;31mAttributeError\u001b[0m                            Traceback (most recent call last)",
      "\u001b[0;32m<ipython-input-10-952bad6c1e99>\u001b[0m in \u001b[0;36m<cell line: 1>\u001b[0;34m()\u001b[0m\n\u001b[0;32m----> 1\u001b[0;31m \u001b[0mstats\u001b[0m\u001b[0;34m.\u001b[0m\u001b[0mlevene\u001b[0m\u001b[0;34m(\u001b[0m\u001b[0mdata\u001b[0m\u001b[0;34m.\u001b[0m\u001b[0mA\u001b[0m\u001b[0;34m(\u001b[0m\u001b[0;34m)\u001b[0m\u001b[0;34m,\u001b[0m \u001b[0mdata\u001b[0m\u001b[0;34m.\u001b[0m\u001b[0mB\u001b[0m\u001b[0;34m(\u001b[0m\u001b[0;34m)\u001b[0m\u001b[0;34m,\u001b[0m \u001b[0mdata\u001b[0m\u001b[0;34m.\u001b[0m\u001b[0mC\u001b[0m\u001b[0;34m,\u001b[0m \u001b[0mdata\u001b[0m\u001b[0;34m.\u001b[0m\u001b[0mD\u001b[0m\u001b[0;34m)\u001b[0m\u001b[0;34m\u001b[0m\u001b[0;34m\u001b[0m\u001b[0m\n\u001b[0m",
      "\u001b[0;32m/usr/local/lib/python3.10/dist-packages/pandas/core/generic.py\u001b[0m in \u001b[0;36m__getattr__\u001b[0;34m(self, name)\u001b[0m\n\u001b[1;32m   6297\u001b[0m         ):\n\u001b[1;32m   6298\u001b[0m             \u001b[0;32mreturn\u001b[0m \u001b[0mself\u001b[0m\u001b[0;34m[\u001b[0m\u001b[0mname\u001b[0m\u001b[0;34m]\u001b[0m\u001b[0;34m\u001b[0m\u001b[0;34m\u001b[0m\u001b[0m\n\u001b[0;32m-> 6299\u001b[0;31m         \u001b[0;32mreturn\u001b[0m \u001b[0mobject\u001b[0m\u001b[0;34m.\u001b[0m\u001b[0m__getattribute__\u001b[0m\u001b[0;34m(\u001b[0m\u001b[0mself\u001b[0m\u001b[0;34m,\u001b[0m \u001b[0mname\u001b[0m\u001b[0;34m)\u001b[0m\u001b[0;34m\u001b[0m\u001b[0;34m\u001b[0m\u001b[0m\n\u001b[0m\u001b[1;32m   6300\u001b[0m \u001b[0;34m\u001b[0m\u001b[0m\n\u001b[1;32m   6301\u001b[0m     \u001b[0;34m@\u001b[0m\u001b[0mfinal\u001b[0m\u001b[0;34m\u001b[0m\u001b[0;34m\u001b[0m\u001b[0m\n",
      "\u001b[0;31mAttributeError\u001b[0m: 'DataFrame' object has no attribute 'A'"
     ]
    }
   ],
   "source": [
    "stats.levene(data.A, data.B, data.C, data.D)"
   ]
  },
  {
   "cell_type": "code",
   "execution_count": null,
   "metadata": {
    "id": "gfKWqefLte7M"
   },
   "outputs": [],
   "source": []
  }
 ],
 "metadata": {
  "colab": {
   "authorship_tag": "ABX9TyMmhzPc/XXHwWZElQVMY/r8",
   "provenance": []
  },
  "kernelspec": {
   "display_name": "myenv",
   "language": "python",
   "name": "python3"
  },
  "language_info": {
   "codemirror_mode": {
    "name": "ipython",
    "version": 3
   },
   "file_extension": ".py",
   "mimetype": "text/x-python",
   "name": "python",
   "nbconvert_exporter": "python",
   "pygments_lexer": "ipython3",
   "version": "3.11.0"
  }
 },
 "nbformat": 4,
 "nbformat_minor": 0
}
