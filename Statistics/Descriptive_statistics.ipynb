{
 "cells": [
  {
   "cell_type": "code",
   "execution_count": 5,
   "metadata": {
    "executionInfo": {
     "elapsed": 566,
     "status": "ok",
     "timestamp": 1733411168472,
     "user": {
      "displayName": "Даниил Болдинов",
      "userId": "07557295132084727833"
     },
     "user_tz": -420
    },
    "id": "e4aUZNjOFvXt"
   },
   "outputs": [],
   "source": [
    "import numpy as np\n",
    "import numpy.random as random\n",
    "import seaborn as sns\n",
    "import pandas as pd\n",
    "import scipy.stats as sps\n",
    "import matplotlib.pyplot as plt"
   ]
  },
  {
   "cell_type": "code",
   "execution_count": 2,
   "metadata": {
    "executionInfo": {
     "elapsed": 7,
     "status": "ok",
     "timestamp": 1733411131702,
     "user": {
      "displayName": "Даниил Болдинов",
      "userId": "07557295132084727833"
     },
     "user_tz": -420
    },
    "id": "ObE2qn0sF7gq"
   },
   "outputs": [],
   "source": [
    "group1 = [84.7, 105.0, 98.9, 97.9, 108.7, 81.3, 99.4, 89.4, 93.0, 119.3, 99.2, 99.4, 97.1, 112.4, 99.8, 94.7, 114.0, 95.1, 115.5, 111.5]\n",
    "group2 = [57.2, 68.6, 104.4, 95.1, 89.9, 70.8, 83.5, 60.1, 75.7, 102.0, 69.0, 79.6, 68.9, 98.6, 76.0, 74.8, 56.0, 55.6, 69.4, 59.5]\n",
    "\n",
    "data = group1 + group2\n",
    "groups = ['group1']*20 + ['group2']*20\n",
    "\n",
    "DNA = pd.DataFrame({\n",
    "    'data':data,\n",
    "    'groups':groups\n",
    "})\n",
    "\n",
    "group1_df = pd.Series(data=group1, name='group1')\n",
    "group2_df = pd.Series(data=group2, name='group2')"
   ]
  },
  {
   "cell_type": "code",
   "execution_count": null,
   "metadata": {
    "colab": {
     "base_uri": "https://localhost:8080/"
    },
    "executionInfo": {
     "elapsed": 268,
     "status": "ok",
     "timestamp": 1733300644597,
     "user": {
      "displayName": "Даниил Болдинов",
      "userId": "07557295132084727833"
     },
     "user_tz": -420
    },
    "id": "g140U7CIw-BM",
    "outputId": "1e41ae3c-aaa8-494c-b69e-6d74459ae108"
   },
   "outputs": [
    {
     "name": "stdout",
     "output_type": "stream",
     "text": [
      "70.07549216227977 131.55450783772022 29.360693649676165 122.1093063503238\n",
      "[1, 1, 1, 1, 1, 1, 1, 1, 1, 1, 1, 1, 1, 1, 1, 1, 1, 1, 1, 1]   20   20\n",
      "[1, 1, 1, 1, 1, 1, 1, 1, 1, 1, 1, 1, 1, 1, 1, 1, 1, 1, 1, 1]   20   20\n"
     ]
    }
   ],
   "source": [
    "# нахождение доверительных интервалов при допущении условия, что совокупность имеет нормальное распределение\n",
    "\n",
    "a1 = group1_df.mean() + 3*group1_df.std()\n",
    "a2 = group1_df.mean() - 3*group1_df.std()\n",
    "a3 = group2_df.mean() + 3*group2_df.std()\n",
    "a4 = group2_df.mean() - 3*group2_df.std()\n",
    "print(a2, a1, a4, a3)\n",
    "\n",
    "l = []\n",
    "for i in group1_df:\n",
    "  if i>=a2 and i<=a1:\n",
    "    l.append(1)\n",
    "  elif i<a2 or i>a1:\n",
    "    l.append(0)\n",
    "  else:\n",
    "    continue\n",
    "\n",
    "s = []\n",
    "for i in group2_df:\n",
    "  if i>=a4 and i<=a3:\n",
    "    s.append(1)\n",
    "  elif i<a4 or i>a3:\n",
    "    s.append(0)\n",
    "  else:\n",
    "    continue\n",
    "\n",
    "print(l, ' ', len(l), ' ', l.count(1))\n",
    "print(s, ' ', len(s), ' ', s.count(1))"
   ]
  },
  {
   "cell_type": "code",
   "execution_count": null,
   "metadata": {
    "colab": {
     "base_uri": "https://localhost:8080/"
    },
    "executionInfo": {
     "elapsed": 270,
     "status": "ok",
     "timestamp": 1733300538059,
     "user": {
      "displayName": "Даниил Болдинов",
      "userId": "07557295132084727833"
     },
     "user_tz": -420
    },
    "id": "lK6a_GaD0QlS",
    "outputId": "0fdd9d4a-b81e-4fdb-e1bd-ba00ff95fa47"
   },
   "outputs": [
    {
     "name": "stdout",
     "output_type": "stream",
     "text": [
      "2.0859634472658364\n",
      "79.44117008785797 122.18882991214203 43.48996402030551 107.98003597969446\n",
      "[1, 1, 1, 1, 1, 1, 1, 1, 1, 1, 1, 1, 1, 1, 1, 1, 1, 1, 1, 1]   20   20\n"
     ]
    }
   ],
   "source": [
    "# теорема трех сигм с использованием t-критерия\n",
    "\n",
    "t_table = sps.t.ppf(0.975, 20)\n",
    "print(t_table)\n",
    "\n",
    "a1 = group1_df.mean() + t_table*group1_df.std()\n",
    "a2 = group1_df.mean() - t_table*group1_df.std()\n",
    "a3 = group2_df.mean() + t_table*group2_df.std()\n",
    "a4 = group2_df.mean() - t_table*group2_df.std()\n",
    "print(a2, a1, a4, a3)\n",
    "\n",
    "l = []\n",
    "for i in group1_df:\n",
    "  if i>=a2 and i<=a1:\n",
    "    l.append(1)\n",
    "  elif i<a2 or i>a1:\n",
    "    l.append(0)\n",
    "  else:\n",
    "    continue\n",
    "\n",
    "print(l, ' ', len(l), ' ', l.count(1))"
   ]
  },
  {
   "cell_type": "code",
   "execution_count": null,
   "metadata": {
    "id": "IBqvTOKM8zwP"
   },
   "outputs": [],
   "source": [
    "# t-критерий, p-значение\n",
    "\n",
    "t_stat, p_value = sps.ttest_ind(group1, group2)\n",
    "print(f\"T-statistic: {t_stat}, P-value: {p_value}\")\n",
    "\n",
    "t = (89.9-80.7)/np.sqrt((11.3**2/20+11.7**2/20))\n",
    "t"
   ]
  },
  {
   "cell_type": "code",
   "execution_count": null,
   "metadata": {
    "id": "xhrUVK0_MJqD"
   },
   "outputs": [],
   "source": [
    "# квантили распределения\n",
    "\n",
    "quant25 = np.quantile(group1, 0.25)\n",
    "quant75 = np.quantile(group1, 0.75)\n",
    "quant_scope = quant75 - quant25\n",
    "\n",
    "for i in group1:\n",
    "  if i<(quant25-1.5*quant_scope) or i>(quant75+1.5*quant_scope):\n",
    "    print(\"Выброс:\", i)\n",
    "  else:\n",
    "    print('Выбросов нет')\n",
    "    continue"
   ]
  },
  {
   "cell_type": "code",
   "execution_count": null,
   "metadata": {
    "colab": {
     "base_uri": "https://localhost:8080/",
     "height": 466
    },
    "executionInfo": {
     "elapsed": 657,
     "status": "ok",
     "timestamp": 1733302229639,
     "user": {
      "displayName": "Даниил Болдинов",
      "userId": "07557295132084727833"
     },
     "user_tz": -420
    },
    "id": "CAGK9NkcGslL",
    "outputId": "902a3507-6618-44c7-cd9f-7b56eb594295"
   },
   "outputs": [
    {
     "data": {
      "text/plain": [
       "<Axes: xlabel='groups', ylabel='data'>"
      ]
     },
     "execution_count": 27,
     "metadata": {},
     "output_type": "execute_result"
    },
    {
     "data": {
      "image/png": "[encoded data removed]",
      "text/plain": [
       "<Figure size 640x480 with 1 Axes>"
      ]
     },
     "metadata": {},
     "output_type": "display_data"
    }
   ],
   "source": [
    "# boxplots\n",
    "\n",
    "sns.boxplot(x=\"groups\", y='data', data=DNA)"
   ]
  },
  {
   "cell_type": "code",
   "execution_count": null,
   "metadata": {
    "colab": {
     "base_uri": "https://localhost:8080/"
    },
    "executionInfo": {
     "elapsed": 306,
     "status": "ok",
     "timestamp": 1733025437881,
     "user": {
      "displayName": "Даниил Болдинов",
      "userId": "07557295132084727833"
     },
     "user_tz": -420
    },
    "id": "Amvo8PrXLHaI",
    "outputId": "02666293-6947-4bcd-a0cb-f1ec31f7984e"
   },
   "outputs": [
    {
     "name": "stdout",
     "output_type": "stream",
     "text": [
      "ShapiroResult(statistic=0.9634190949179522, pvalue=0.6141726849030309) ShapiroResult(statistic=0.9255581107669466, pvalue=0.12679716544217434)\n"
     ]
    }
   ],
   "source": [
    "# Шапиро для выявления степени сходства ряда и нормального распределения\n",
    "\n",
    "from scipy.stats import shapiro, kstest\n",
    "\n",
    "res_shapiro1 = shapiro(group1)\n",
    "res_shapiro2 = shapiro(group2)\n",
    "print(res_shapiro1, res_shapiro2)"
   ]
  },
  {
   "cell_type": "code",
   "execution_count": null,
   "metadata": {
    "colab": {
     "base_uri": "https://localhost:8080/",
     "height": 1000
    },
    "executionInfo": {
     "elapsed": 1134,
     "status": "ok",
     "timestamp": 1733035794860,
     "user": {
      "displayName": "Даниил Болдинов",
      "userId": "07557295132084727833"
     },
     "user_tz": -420
    },
    "id": "qT_FVgwOXZX2",
    "outputId": "7efe4c1f-efbb-4ed1-9629-28004185b303"
   },
   "outputs": [
    {
     "data": {
      "text/plain": [
       "<seaborn.axisgrid.FacetGrid at 0x79404af67610>"
      ]
     },
     "execution_count": 17,
     "metadata": {},
     "output_type": "execute_result"
    },
    {
     "data": {
      "image/png": "[encoded data removed]",
      "text/plain": [
       "<Figure size 500x500 with 1 Axes>"
      ]
     },
     "metadata": {},
     "output_type": "display_data"
    },
    {
     "data": {
      "image/png": "[encoded data removed]",
      "text/plain": [
       "<Figure size 500x500 with 1 Axes>"
      ]
     },
     "metadata": {},
     "output_type": "display_data"
    }
   ],
   "source": [
    "# distribution\n",
    "\n",
    "sns.displot(group1_df, color ='gray')\n",
    "sns.displot(group2_df, color ='gray')"
   ]
  },
  {
   "cell_type": "code",
   "execution_count": null,
   "metadata": {
    "colab": {
     "base_uri": "https://localhost:8080/"
    },
    "executionInfo": {
     "elapsed": 280,
     "status": "ok",
     "timestamp": 1733052571056,
     "user": {
      "displayName": "Даниил Болдинов",
      "userId": "07557295132084727833"
     },
     "user_tz": -420
    },
    "id": "yXS9GSI79964",
    "outputId": "dcc915a6-95de-484a-c2d9-2ed5625e3881"
   },
   "outputs": [
    {
     "name": "stdout",
     "output_type": "stream",
     "text": [
      "356.5 2.4407506516614244e-05\n"
     ]
    }
   ],
   "source": [
    "# критерий Манн-Уитни\n",
    "\n",
    "from scipy.stats import mannwhitneyu\n",
    "\n",
    "U1, p = mannwhitneyu(group1, group2)\n",
    "print(U1, p)"
   ]
  },
  {
   "cell_type": "code",
   "execution_count": 8,
   "metadata": {
    "colab": {
     "base_uri": "https://localhost:8080/",
     "height": 472
    },
    "executionInfo": {
     "elapsed": 950,
     "status": "ok",
     "timestamp": 1733411210425,
     "user": {
      "displayName": "Даниил Болдинов",
      "userId": "07557295132084727833"
     },
     "user_tz": -420
    },
    "id": "Cv4MLaT4cJB4",
    "outputId": "883d5ebf-eeeb-411a-8ab0-9c9cb304bac6"
   },
   "outputs": [
    {
     "data": {
      "image/png": "[encoded data removed]",
      "text/plain": [
       "<Figure size 640x480 with 1 Axes>"
      ]
     },
     "metadata": {},
     "output_type": "display_data"
    }
   ],
   "source": [
    "# QQ plot\n",
    "\n",
    "sps.probplot(group2, dist=\"norm\", plot=pylab)\n",
    "plt.show()"
   ]
  },
  {
   "cell_type": "code",
   "execution_count": null,
   "metadata": {
    "colab": {
     "base_uri": "https://localhost:8080/"
    },
    "executionInfo": {
     "elapsed": 297,
     "status": "ok",
     "timestamp": 1733052519868,
     "user": {
      "displayName": "Даниил Болдинов",
      "userId": "07557295132084727833"
     },
     "user_tz": -420
    },
    "id": "yV7FgINo8NIg",
    "outputId": "2077036c-3c81-4750-a24a-5d300c32cb86"
   },
   "outputs": [
    {
     "name": "stdout",
     "output_type": "stream",
     "text": [
      "0.9634190949179522 0.9255581107669466\n"
     ]
    }
   ],
   "source": [
    "# Shapiro-Wilk normality test\n",
    "\n",
    "\n",
    "shapiro1 = sps.shapiro(group1).statistic\n",
    "shapiro2 = sps.shapiro(group2).statistic\n",
    "\n",
    "print(shapiro1, shapiro2)"
   ]
  },
  {
   "cell_type": "code",
   "execution_count": null,
   "metadata": {
    "id": "7P6GRMSi-aew"
   },
   "outputs": [],
   "source": []
  }
 ],
 "metadata": {
  "colab": {
   "authorship_tag": "ABX9TyN9/P7QmjzQ2m5oJm5OCmDU",
   "provenance": []
  },
  "kernelspec": {
   "display_name": "Python 3",
   "name": "python3"
  },
  "language_info": {
   "name": "python"
  }
 },
 "nbformat": 4,
 "nbformat_minor": 0
}
