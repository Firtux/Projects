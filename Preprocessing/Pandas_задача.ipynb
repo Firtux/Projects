{
 "cells": [
  {
   "cell_type": "markdown",
   "metadata": {
    "id": "nZZtwgMSeKal"
   },
   "source": [
    "https://itresume.ru/problems/pandas-pivot\n",
    "\n",
    "Необходимо написать функцию to_wide, которая принимает на вход словарь именно такой структуры, как df, и преобразует его к датафрейму «широкого» (wide) вида:\n",
    "\n",
    "значения из столбца contact становятся заголовками новых столбцов\n",
    "соответствующие значения берутся из столбца value\n",
    "столбец name при этом должен стать новым индексом датафрейма."
   ]
  },
  {
   "cell_type": "code",
   "execution_count": 1,
   "metadata": {
    "colab": {
     "base_uri": "https://localhost:8080/",
     "height": 238
    },
    "executionInfo": {
     "elapsed": 847,
     "status": "ok",
     "timestamp": 1733058008453,
     "user": {
      "displayName": "Даниил Болдинов",
      "userId": "07557295132084727833"
     },
     "user_tz": -420
    },
    "id": "un5RUcZPSd_M",
    "outputId": "ef895f14-fc0b-478a-94ac-5bcbfaaa0c0c"
   },
   "outputs": [
    {
     "data": {
      "text/html": [
       "<div>\n",
       "<style scoped>\n",
       "    .dataframe tbody tr th:only-of-type {\n",
       "        vertical-align: middle;\n",
       "    }\n",
       "\n",
       "    .dataframe tbody tr th {\n",
       "        vertical-align: top;\n",
       "    }\n",
       "\n",
       "    .dataframe thead th {\n",
       "        text-align: right;\n",
       "    }\n",
       "</style>\n",
       "<table border=\"1\" class=\"dataframe\">\n",
       "  <thead>\n",
       "    <tr style=\"text-align: right;\">\n",
       "      <th></th>\n",
       "      <th>name</th>\n",
       "      <th>contact</th>\n",
       "      <th>value</th>\n",
       "    </tr>\n",
       "  </thead>\n",
       "  <tbody>\n",
       "    <tr>\n",
       "      <th>0</th>\n",
       "      <td>Nikita</td>\n",
       "      <td>phone</td>\n",
       "      <td>88805553535</td>\n",
       "    </tr>\n",
       "    <tr>\n",
       "      <th>1</th>\n",
       "      <td>Nikita</td>\n",
       "      <td>email</td>\n",
       "      <td>nikitos@mail.ru</td>\n",
       "    </tr>\n",
       "    <tr>\n",
       "      <th>2</th>\n",
       "      <td>Max</td>\n",
       "      <td>phone</td>\n",
       "      <td>88008889999</td>\n",
       "    </tr>\n",
       "    <tr>\n",
       "      <th>3</th>\n",
       "      <td>Max</td>\n",
       "      <td>github</td>\n",
       "      <td>pubg</td>\n",
       "    </tr>\n",
       "    <tr>\n",
       "      <th>4</th>\n",
       "      <td>Elizaveta</td>\n",
       "      <td>email</td>\n",
       "      <td>lizusha@gmail.com</td>\n",
       "    </tr>\n",
       "    <tr>\n",
       "      <th>5</th>\n",
       "      <td>Alexandra</td>\n",
       "      <td>phone</td>\n",
       "      <td>81234567890</td>\n",
       "    </tr>\n",
       "  </tbody>\n",
       "</table>\n",
       "</div>"
      ],
      "text/plain": [
       "        name contact              value\n",
       "0     Nikita   phone        88805553535\n",
       "1     Nikita   email    nikitos@mail.ru\n",
       "2        Max   phone        88008889999\n",
       "3        Max  github               pubg\n",
       "4  Elizaveta   email  lizusha@gmail.com\n",
       "5  Alexandra   phone        81234567890"
      ]
     },
     "execution_count": 1,
     "metadata": {},
     "output_type": "execute_result"
    }
   ],
   "source": [
    "import pandas as pd\n",
    "\n",
    "df = pd.DataFrame({\n",
    "    'name': ['Nikita', 'Nikita', 'Max', 'Max', 'Elizaveta', 'Alexandra'],\n",
    "    'contact': ['phone', 'email', 'phone', 'github', 'email', 'phone'],\n",
    "    'value': ['88805553535', 'nikitos@mail.ru', '88008889999', 'pubg', 'lizusha@gmail.com', '81234567890']\n",
    "})\n",
    "\n",
    "df"
   ]
  },
  {
   "cell_type": "code",
   "execution_count": 2,
   "metadata": {},
   "outputs": [
    {
     "data": {
      "text/html": [
       "<div>\n",
       "<style scoped>\n",
       "    .dataframe tbody tr th:only-of-type {\n",
       "        vertical-align: middle;\n",
       "    }\n",
       "\n",
       "    .dataframe tbody tr th {\n",
       "        vertical-align: top;\n",
       "    }\n",
       "\n",
       "    .dataframe thead th {\n",
       "        text-align: right;\n",
       "    }\n",
       "</style>\n",
       "<table border=\"1\" class=\"dataframe\">\n",
       "  <thead>\n",
       "    <tr style=\"text-align: right;\">\n",
       "      <th>contact</th>\n",
       "      <th>email</th>\n",
       "      <th>github</th>\n",
       "      <th>phone</th>\n",
       "    </tr>\n",
       "    <tr>\n",
       "      <th>name</th>\n",
       "      <th></th>\n",
       "      <th></th>\n",
       "      <th></th>\n",
       "    </tr>\n",
       "  </thead>\n",
       "  <tbody>\n",
       "    <tr>\n",
       "      <th>Alexandra</th>\n",
       "      <td>NaN</td>\n",
       "      <td>NaN</td>\n",
       "      <td>81234567890</td>\n",
       "    </tr>\n",
       "    <tr>\n",
       "      <th>Elizaveta</th>\n",
       "      <td>lizusha@gmail.com</td>\n",
       "      <td>NaN</td>\n",
       "      <td>NaN</td>\n",
       "    </tr>\n",
       "    <tr>\n",
       "      <th>Max</th>\n",
       "      <td>NaN</td>\n",
       "      <td>pubg</td>\n",
       "      <td>88008889999</td>\n",
       "    </tr>\n",
       "    <tr>\n",
       "      <th>Nikita</th>\n",
       "      <td>nikitos@mail.ru</td>\n",
       "      <td>NaN</td>\n",
       "      <td>88805553535</td>\n",
       "    </tr>\n",
       "  </tbody>\n",
       "</table>\n",
       "</div>"
      ],
      "text/plain": [
       "contact                email github        phone\n",
       "name                                            \n",
       "Alexandra                NaN    NaN  81234567890\n",
       "Elizaveta  lizusha@gmail.com    NaN          NaN\n",
       "Max                      NaN   pubg  88008889999\n",
       "Nikita       nikitos@mail.ru    NaN  88805553535"
      ]
     },
     "execution_count": 2,
     "metadata": {},
     "output_type": "execute_result"
    }
   ],
   "source": [
    "def to_wide(data):\n",
    "    df = data.pivot(index='name',\n",
    "                    columns='contact',\n",
    "                    values='value')\n",
    "    return df\n",
    "\n",
    "to_wide(df)"
   ]
  }
 ],
 "metadata": {
  "colab": {
   "authorship_tag": "ABX9TyNx+IRddSlzRaaFkoJiVLeM",
   "provenance": []
  },
  "kernelspec": {
   "display_name": "myenv",
   "language": "python",
   "name": "python3"
  },
  "language_info": {
   "codemirror_mode": {
    "name": "ipython",
    "version": 3
   },
   "file_extension": ".py",
   "mimetype": "text/x-python",
   "name": "python",
   "nbconvert_exporter": "python",
   "pygments_lexer": "ipython3",
   "version": "3.11.0"
  }
 },
 "nbformat": 4,
 "nbformat_minor": 0
}
