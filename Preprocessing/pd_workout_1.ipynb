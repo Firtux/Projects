{
 "cells": [
  {
   "cell_type": "code",
   "execution_count": 15,
   "metadata": {},
   "outputs": [
    {
     "data": {
      "text/plain": [
       "jan    86\n",
       "feb    89\n",
       "mar    75\n",
       "apr    88\n",
       "may    76\n",
       "jun    93\n",
       "jul    99\n",
       "aug    84\n",
       "sep    96\n",
       "oct    81\n",
       "dtype: int32"
      ]
     },
     "execution_count": 15,
     "metadata": {},
     "output_type": "execute_result"
    }
   ],
   "source": [
    "import pandas as pd\n",
    "import numpy as np\n",
    "\n",
    "mark_data = pd.Series(np.random.randint(70, 100, 10), index=['jan', 'feb', 'mar', 'apr', 'may', 'jun', 'jul', 'aug', 'sep', 'oct'])\n",
    "mark_data"
   ]
  },
  {
   "cell_type": "code",
   "execution_count": 21,
   "metadata": {},
   "outputs": [
    {
     "name": "stdout",
     "output_type": "stream",
     "text": [
      "Средняя оценка за весь год: 86.7\n",
      "Средняя оценка за первое полугодие: 82.8\n",
      "Средняя оценка за второе полугодие: 90.6\n"
     ]
    }
   ],
   "source": [
    "print(f'Средняя оценка за весь год: {mark_data.mean()}')\n",
    "print(f'Средняя оценка за первое полугодие: {mark_data.iloc[0:5].mean()}')\n",
    "print(f'Средняя оценка за второе полугодие: {mark_data.iloc[5:].mean()}')"
   ]
  }
 ],
 "metadata": {
  "kernelspec": {
   "display_name": "myenv",
   "language": "python",
   "name": "python3"
  },
  "language_info": {
   "codemirror_mode": {
    "name": "ipython",
    "version": 3
   },
   "file_extension": ".py",
   "mimetype": "text/x-python",
   "name": "python",
   "nbconvert_exporter": "python",
   "pygments_lexer": "ipython3",
   "version": "3.11.0"
  }
 },
 "nbformat": 4,
 "nbformat_minor": 2
}
